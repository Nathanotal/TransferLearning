{
 "cells": [
  {
   "cell_type": "markdown",
   "metadata": {},
   "source": [
    "### Transfer learning"
   ]
  },
  {
   "cell_type": "markdown",
   "metadata": {},
   "source": [
    "Install and import packages"
   ]
  },
  {
   "cell_type": "code",
   "execution_count": null,
   "metadata": {},
   "outputs": [],
   "source": [
    "%pip install numpy\n",
    "%pip install matplotlib\n",
    "%pip install seaborn\n",
    "%pip install torch\n",
    "%pip install torchvision\n",
    "%pip install helper"
   ]
  },
  {
   "cell_type": "code",
   "execution_count": null,
   "metadata": {},
   "outputs": [],
   "source": [
    "import numpy as np\n",
    "import matplotlib.pyplot as plt\n",
    "import seaborn as sns\n",
    "import torch as th\n",
    "from torch.utils.data import DataLoader\n",
    "import torchvision as tv\n",
    "from torchvision import transforms\n",
    "import os"
   ]
  },
  {
   "cell_type": "markdown",
   "metadata": {},
   "source": [
    "### Load dataset"
   ]
  },
  {
   "cell_type": "code",
   "execution_count": null,
   "metadata": {},
   "outputs": [],
   "source": [
    "imagenet_data = tv.datasets.ImageFolder('images/')"
   ]
  },
  {
   "cell_type": "code",
   "execution_count": 2,
   "metadata": {},
   "outputs": [
    {
     "ename": "FileNotFoundError",
     "evalue": "[WinError 3] Det går inte att hitta sökvägen: './images/data'",
     "output_type": "error",
     "traceback": [
      "\u001b[1;31m---------------------------------------------------------------------------\u001b[0m",
      "\u001b[1;31mFileNotFoundError\u001b[0m                         Traceback (most recent call last)",
      "\u001b[1;32mc:\\Users\\natha\\OneDrive\\Skrivbord\\Deep learning\\Deep Learning Project\\transferLearning.ipynb Cell 7'\u001b[0m in \u001b[0;36m<cell line: 1>\u001b[1;34m()\u001b[0m\n\u001b[1;32m----> <a href='vscode-notebook-cell:/c%3A/Users/natha/OneDrive/Skrivbord/Deep%20learning/Deep%20Learning%20Project/transferLearning.ipynb#ch0000006?line=0'>1</a>\u001b[0m files \u001b[39m=\u001b[39m os\u001b[39m.\u001b[39;49mlistdir(\u001b[39m\"\u001b[39;49m\u001b[39m./images/data\u001b[39;49m\u001b[39m\"\u001b[39;49m)\n",
      "\u001b[1;31mFileNotFoundError\u001b[0m: [WinError 3] Det går inte att hitta sökvägen: './images/data'"
     ]
    }
   ],
   "source": [
    "files = os.listdir(\"./images/\")"
   ]
  },
  {
   "cell_type": "code",
   "execution_count": null,
   "metadata": {},
   "outputs": [],
   "source": [
    "def getPaths():\n",
    "    files = os.listdir(\"./images/\")\n",
    "    return files\n",
    "\n",
    "    \n",
    "def initDataset():\n",
    "    transform = transforms.Compose([transforms.Resize(255),\n",
    "                                    transforms.CenterCrop(224),\n",
    "                                    transforms.ToTensor()])\n",
    "    \n",
    "    imagenet_data = tv.datasets.ImageFolder('./data/', transform)\n",
    "    print(imagenet_data)\n",
    "    \n",
    "    data_loader = th.utils.data.DataLoader(imagenet_data,\n",
    "                                            batch_size=32,\n",
    "                                            shuffle=True,\n",
    "                                            num_workers=4)\n",
    "    \n",
    "    return data_loader\n",
    "\n",
    "data_loader = initDataset()"
   ]
  },
  {
   "cell_type": "markdown",
   "metadata": {},
   "source": [
    "### Show images"
   ]
  },
  {
   "cell_type": "code",
   "execution_count": null,
   "metadata": {},
   "outputs": [],
   "source": [
    "def test(iter):\n",
    "    for image, labels in iter:\n",
    "        # plt.imshow(image[0].permute(1, 2, 0))\n",
    "        # plt.show()\n",
    "        print(labels[0])\n",
    "imgIterator = iter(data_loader)\n",
    "test(imgIterator)"
   ]
  },
  {
   "cell_type": "markdown",
   "metadata": {},
   "source": [
    "### Initialize model"
   ]
  },
  {
   "cell_type": "code",
   "execution_count": null,
   "metadata": {},
   "outputs": [],
   "source": [
    "model = tv.models.resnet18(progress = True)"
   ]
  }
 ],
 "metadata": {
  "interpreter": {
   "hash": "ee178e4c284ef3b37c6951cf0fc2a764583ae515dcfe07a7f6c190bcc49c4382"
  },
  "kernelspec": {
   "display_name": "Python 3.9.7 ('venv': venv)",
   "language": "python",
   "name": "python3"
  },
  "language_info": {
   "codemirror_mode": {
    "name": "ipython",
    "version": 3
   },
   "file_extension": ".py",
   "mimetype": "text/x-python",
   "name": "python",
   "nbconvert_exporter": "python",
   "pygments_lexer": "ipython3",
   "version": "3.9.7"
  },
  "orig_nbformat": 4
 },
 "nbformat": 4,
 "nbformat_minor": 2
}
