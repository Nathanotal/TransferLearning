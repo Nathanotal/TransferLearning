{
 "cells": [
  {
   "cell_type": "markdown",
   "metadata": {},
   "source": [
    "### Transfer learning"
   ]
  },
  {
   "cell_type": "markdown",
   "metadata": {},
   "source": [
    "Install and import packages"
   ]
  },
  {
   "cell_type": "code",
   "execution_count": 1,
   "metadata": {},
   "outputs": [
    {
     "name": "stdout",
     "output_type": "stream",
     "text": [
      "Requirement already satisfied: numpy in c:\\users\\natha\\onedrive\\skrivbord\\deep learning\\deep learning project\\venv\\lib\\site-packages (1.22.3)\n",
      "Note: you may need to restart the kernel to use updated packages.\n"
     ]
    },
    {
     "name": "stderr",
     "output_type": "stream",
     "text": [
      "WARNING: You are using pip version 21.2.3; however, version 22.0.4 is available.\n",
      "You should consider upgrading via the 'c:\\Users\\natha\\OneDrive\\Skrivbord\\Deep learning\\Deep Learning Project\\venv\\Scripts\\python.exe -m pip install --upgrade pip' command.\n"
     ]
    },
    {
     "name": "stdout",
     "output_type": "stream",
     "text": [
      "Requirement already satisfied: matplotlib in c:\\users\\natha\\onedrive\\skrivbord\\deep learning\\deep learning project\\venv\\lib\\site-packages (3.5.1)\n",
      "Requirement already satisfied: numpy>=1.17 in c:\\users\\natha\\onedrive\\skrivbord\\deep learning\\deep learning project\\venv\\lib\\site-packages (from matplotlib) (1.22.3)\n",
      "Requirement already satisfied: pyparsing>=2.2.1 in c:\\users\\natha\\onedrive\\skrivbord\\deep learning\\deep learning project\\venv\\lib\\site-packages (from matplotlib) (3.0.8)\n",
      "Requirement already satisfied: kiwisolver>=1.0.1 in c:\\users\\natha\\onedrive\\skrivbord\\deep learning\\deep learning project\\venv\\lib\\site-packages (from matplotlib) (1.4.2)\n",
      "Requirement already satisfied: pillow>=6.2.0 in c:\\users\\natha\\onedrive\\skrivbord\\deep learning\\deep learning project\\venv\\lib\\site-packages (from matplotlib) (9.1.0)\n",
      "Requirement already satisfied: fonttools>=4.22.0 in c:\\users\\natha\\onedrive\\skrivbord\\deep learning\\deep learning project\\venv\\lib\\site-packages (from matplotlib) (4.33.2)\n",
      "Requirement already satisfied: cycler>=0.10 in c:\\users\\natha\\onedrive\\skrivbord\\deep learning\\deep learning project\\venv\\lib\\site-packages (from matplotlib) (0.11.0)\n",
      "Requirement already satisfied: python-dateutil>=2.7 in c:\\users\\natha\\onedrive\\skrivbord\\deep learning\\deep learning project\\venv\\lib\\site-packages (from matplotlib) (2.8.2)\n",
      "Requirement already satisfied: packaging>=20.0 in c:\\users\\natha\\onedrive\\skrivbord\\deep learning\\deep learning project\\venv\\lib\\site-packages (from matplotlib) (21.3)\n",
      "Requirement already satisfied: six>=1.5 in c:\\users\\natha\\onedrive\\skrivbord\\deep learning\\deep learning project\\venv\\lib\\site-packages (from python-dateutil>=2.7->matplotlib) (1.16.0)\n",
      "Note: you may need to restart the kernel to use updated packages.\n"
     ]
    },
    {
     "name": "stderr",
     "output_type": "stream",
     "text": [
      "WARNING: You are using pip version 21.2.3; however, version 22.0.4 is available.\n",
      "You should consider upgrading via the 'c:\\Users\\natha\\OneDrive\\Skrivbord\\Deep learning\\Deep Learning Project\\venv\\Scripts\\python.exe -m pip install --upgrade pip' command.\n"
     ]
    },
    {
     "name": "stdout",
     "output_type": "stream",
     "text": [
      "Requirement already satisfied: seaborn in c:\\users\\natha\\onedrive\\skrivbord\\deep learning\\deep learning project\\venv\\lib\\site-packages (0.11.2)\n",
      "Requirement already satisfied: matplotlib>=2.2 in c:\\users\\natha\\onedrive\\skrivbord\\deep learning\\deep learning project\\venv\\lib\\site-packages (from seaborn) (3.5.1)\n",
      "Requirement already satisfied: scipy>=1.0 in c:\\users\\natha\\onedrive\\skrivbord\\deep learning\\deep learning project\\venv\\lib\\site-packages (from seaborn) (1.8.0)\n",
      "Requirement already satisfied: pandas>=0.23 in c:\\users\\natha\\onedrive\\skrivbord\\deep learning\\deep learning project\\venv\\lib\\site-packages (from seaborn) (1.4.2)\n",
      "Requirement already satisfied: numpy>=1.15 in c:\\users\\natha\\onedrive\\skrivbord\\deep learning\\deep learning project\\venv\\lib\\site-packages (from seaborn) (1.22.3)\n",
      "Requirement already satisfied: pillow>=6.2.0 in c:\\users\\natha\\onedrive\\skrivbord\\deep learning\\deep learning project\\venv\\lib\\site-packages (from matplotlib>=2.2->seaborn) (9.1.0)\n",
      "Requirement already satisfied: kiwisolver>=1.0.1 in c:\\users\\natha\\onedrive\\skrivbord\\deep learning\\deep learning project\\venv\\lib\\site-packages (from matplotlib>=2.2->seaborn) (1.4.2)\n",
      "Requirement already satisfied: pyparsing>=2.2.1 in c:\\users\\natha\\onedrive\\skrivbord\\deep learning\\deep learning project\\venv\\lib\\site-packages (from matplotlib>=2.2->seaborn) (3.0.8)\n",
      "Requirement already satisfied: cycler>=0.10 in c:\\users\\natha\\onedrive\\skrivbord\\deep learning\\deep learning project\\venv\\lib\\site-packages (from matplotlib>=2.2->seaborn) (0.11.0)\n",
      "Requirement already satisfied: python-dateutil>=2.7 in c:\\users\\natha\\onedrive\\skrivbord\\deep learning\\deep learning project\\venv\\lib\\site-packages (from matplotlib>=2.2->seaborn) (2.8.2)\n",
      "Requirement already satisfied: fonttools>=4.22.0 in c:\\users\\natha\\onedrive\\skrivbord\\deep learning\\deep learning project\\venv\\lib\\site-packages (from matplotlib>=2.2->seaborn) (4.33.2)\n",
      "Requirement already satisfied: packaging>=20.0 in c:\\users\\natha\\onedrive\\skrivbord\\deep learning\\deep learning project\\venv\\lib\\site-packages (from matplotlib>=2.2->seaborn) (21.3)\n",
      "Requirement already satisfied: pytz>=2020.1 in c:\\users\\natha\\onedrive\\skrivbord\\deep learning\\deep learning project\\venv\\lib\\site-packages (from pandas>=0.23->seaborn) (2022.1)\n",
      "Requirement already satisfied: six>=1.5 in c:\\users\\natha\\onedrive\\skrivbord\\deep learning\\deep learning project\\venv\\lib\\site-packages (from python-dateutil>=2.7->matplotlib>=2.2->seaborn) (1.16.0)\n",
      "Note: you may need to restart the kernel to use updated packages.\n"
     ]
    },
    {
     "name": "stderr",
     "output_type": "stream",
     "text": [
      "WARNING: You are using pip version 21.2.3; however, version 22.0.4 is available.\n",
      "You should consider upgrading via the 'c:\\Users\\natha\\OneDrive\\Skrivbord\\Deep learning\\Deep Learning Project\\venv\\Scripts\\python.exe -m pip install --upgrade pip' command.\n"
     ]
    },
    {
     "name": "stdout",
     "output_type": "stream",
     "text": [
      "Requirement already satisfied: torch in c:\\users\\natha\\onedrive\\skrivbord\\deep learning\\deep learning project\\venv\\lib\\site-packages (1.11.0)\n",
      "Requirement already satisfied: typing-extensions in c:\\users\\natha\\onedrive\\skrivbord\\deep learning\\deep learning project\\venv\\lib\\site-packages (from torch) (4.2.0)\n",
      "Note: you may need to restart the kernel to use updated packages.\n"
     ]
    },
    {
     "name": "stderr",
     "output_type": "stream",
     "text": [
      "WARNING: You are using pip version 21.2.3; however, version 22.0.4 is available.\n",
      "You should consider upgrading via the 'c:\\Users\\natha\\OneDrive\\Skrivbord\\Deep learning\\Deep Learning Project\\venv\\Scripts\\python.exe -m pip install --upgrade pip' command.\n"
     ]
    },
    {
     "name": "stdout",
     "output_type": "stream",
     "text": [
      "Requirement already satisfied: torchvision in c:\\users\\natha\\onedrive\\skrivbord\\deep learning\\deep learning project\\venv\\lib\\site-packages (0.12.0)\n",
      "Requirement already satisfied: numpy in c:\\users\\natha\\onedrive\\skrivbord\\deep learning\\deep learning project\\venv\\lib\\site-packages (from torchvision) (1.22.3)\n",
      "Requirement already satisfied: pillow!=8.3.*,>=5.3.0 in c:\\users\\natha\\onedrive\\skrivbord\\deep learning\\deep learning project\\venv\\lib\\site-packages (from torchvision) (9.1.0)\n",
      "Requirement already satisfied: torch==1.11.0 in c:\\users\\natha\\onedrive\\skrivbord\\deep learning\\deep learning project\\venv\\lib\\site-packages (from torchvision) (1.11.0)\n",
      "Requirement already satisfied: typing-extensions in c:\\users\\natha\\onedrive\\skrivbord\\deep learning\\deep learning project\\venv\\lib\\site-packages (from torchvision) (4.2.0)\n",
      "Requirement already satisfied: requests in c:\\users\\natha\\onedrive\\skrivbord\\deep learning\\deep learning project\\venv\\lib\\site-packages (from torchvision) (2.27.1)\n",
      "Requirement already satisfied: charset-normalizer~=2.0.0 in c:\\users\\natha\\onedrive\\skrivbord\\deep learning\\deep learning project\\venv\\lib\\site-packages (from requests->torchvision) (2.0.12)\n",
      "Requirement already satisfied: certifi>=2017.4.17 in c:\\users\\natha\\onedrive\\skrivbord\\deep learning\\deep learning project\\venv\\lib\\site-packages (from requests->torchvision) (2021.10.8)\n",
      "Requirement already satisfied: urllib3<1.27,>=1.21.1 in c:\\users\\natha\\onedrive\\skrivbord\\deep learning\\deep learning project\\venv\\lib\\site-packages (from requests->torchvision) (1.26.9)\n",
      "Requirement already satisfied: idna<4,>=2.5 in c:\\users\\natha\\onedrive\\skrivbord\\deep learning\\deep learning project\\venv\\lib\\site-packages (from requests->torchvision) (3.3)\n",
      "Note: you may need to restart the kernel to use updated packages.\n"
     ]
    },
    {
     "name": "stderr",
     "output_type": "stream",
     "text": [
      "WARNING: You are using pip version 21.2.3; however, version 22.0.4 is available.\n",
      "You should consider upgrading via the 'c:\\Users\\natha\\OneDrive\\Skrivbord\\Deep learning\\Deep Learning Project\\venv\\Scripts\\python.exe -m pip install --upgrade pip' command.\n"
     ]
    },
    {
     "name": "stdout",
     "output_type": "stream",
     "text": [
      "Requirement already satisfied: helper in c:\\users\\natha\\onedrive\\skrivbord\\deep learning\\deep learning project\\venv\\lib\\site-packages (2.5.0)\n",
      "Requirement already satisfied: pyyaml in c:\\users\\natha\\onedrive\\skrivbord\\deep learning\\deep learning project\\venv\\lib\\site-packages (from helper) (6.0)\n",
      "Note: you may need to restart the kernel to use updated packages.\n"
     ]
    },
    {
     "name": "stderr",
     "output_type": "stream",
     "text": [
      "WARNING: You are using pip version 21.2.3; however, version 22.0.4 is available.\n",
      "You should consider upgrading via the 'c:\\Users\\natha\\OneDrive\\Skrivbord\\Deep learning\\Deep Learning Project\\venv\\Scripts\\python.exe -m pip install --upgrade pip' command.\n"
     ]
    }
   ],
   "source": [
    "%pip install numpy\n",
    "%pip install matplotlib\n",
    "%pip install seaborn\n",
    "%pip install torch\n",
    "%pip install torchvision\n",
    "%pip install helper"
   ]
  },
  {
   "cell_type": "code",
   "execution_count": 2,
   "metadata": {},
   "outputs": [],
   "source": [
    "import numpy as np\n",
    "import matplotlib.pyplot as plt\n",
    "import seaborn as sns\n",
    "import torch as th\n",
    "from torch.utils.data import DataLoader\n",
    "import torchvision as tv\n",
    "from torchvision import transforms\n",
    "import os"
   ]
  },
  {
   "cell_type": "markdown",
   "metadata": {},
   "source": [
    "### Load dataset\n",
    "Maybe normalize dataset"
   ]
  },
  {
   "cell_type": "code",
   "execution_count": 3,
   "metadata": {},
   "outputs": [
    {
     "name": "stdout",
     "output_type": "stream",
     "text": [
      "['Abyssinian', 'americanbulldog', 'americanpitbullterrier', 'bassethound', 'beagle', 'Bengal', 'Birman', 'Bombay', 'boxer', 'BritishShorthair', 'chihuahua', 'EgyptianMau', 'englishcockerspaniel', 'englishsetter', 'germanshorthaired', 'greatpyrenees', 'havanese', 'japanesechin', 'keeshond', 'leonberger', 'MaineCoon', 'miniaturepinscher', 'newfoundland', 'Persian', 'pomeranian', 'pug', 'Ragdoll', 'RussianBlue', 'saintbernard', 'samoyed', 'scottishterrier', 'shibainu', 'Siamese', 'Sphynx', 'staffordshirebullterrier', 'wheatenterrier', 'yorkshireterrier'] <__main__.MyDataset object at 0x000001F2A8093C70>\n"
     ]
    }
   ],
   "source": [
    "from torch.utils.data import Dataset\n",
    "from PIL import Image\n",
    "\n",
    "def open_image(path): # https://jovian.ai/aakashns/transfer-learning-pytorch\n",
    "    with open(path, 'rb') as f:\n",
    "        img = Image.open(f)\n",
    "        return img.convert('RGB')\n",
    "    \n",
    "class MyDataset(Dataset):\n",
    "    def __init__(self):\n",
    "        super().__init__()\n",
    "        self.files = self.initPaths()\n",
    "        self.classes = self.initClasses()\n",
    "        self.classesCatDog = self.initClassesCatDog()\n",
    "        self.transform = transforms.Compose([transforms.Resize(255),\n",
    "                                    transforms.CenterCrop(224),\n",
    "                                    transforms.ToTensor()]) # Change this so we undertand\n",
    "    \n",
    "    def __len__(self):\n",
    "        return len(self.files)\n",
    "\n",
    "    def __getitem__(self, i):\n",
    "        path = \"/data/images/\" + self.files[i]\n",
    "        img = self.transform(open_image(path))\n",
    "        class_idx = self.classes.index(self.getClass(self.files[i]))\n",
    "        return img, class_idx\n",
    "    \n",
    "    def getClass(self, fileName):\n",
    "       nameList = fileName.split(\"_\")\n",
    "       name = \"\"\n",
    "       for namePart in nameList:\n",
    "           if \".jpg\" not in namePart:\n",
    "               name += namePart\n",
    "       return name\n",
    "        \n",
    "    def initClasses(self):\n",
    "        classList = []\n",
    "        for fname in self.files:\n",
    "            theClass = self.getClass(fname)\n",
    "            if theClass not in classList:\n",
    "                classList.append(theClass)\n",
    "        return classList\n",
    "    \n",
    "    def getClassCatDog(self, fileName):\n",
    "       if fileName[0].isupper():\n",
    "           return \"cat\"\n",
    "       else:\n",
    "           return \"dog\"\n",
    "    \n",
    "    def initClassesCatDog(self):\n",
    "        classList = []\n",
    "        for fname in self.files:\n",
    "            theClass = self.getClass(fname)\n",
    "            if theClass not in classList:\n",
    "                classList.append(theClass)\n",
    "        return [\"cat\", \"dog\"]\n",
    "    \n",
    "    def initPaths(self):\n",
    "        files = os.listdir(\"./data/images/\")\n",
    "        jpgList = []\n",
    "        for file in files:\n",
    "            if file.endswith(\".jpg\"):\n",
    "                jpgList.append(file)\n",
    "\n",
    "        return jpgList\n",
    "    \n",
    "\n",
    "test = MyDataset()\n",
    "\n",
    "print(test.classes, test)"
   ]
  },
  {
   "cell_type": "code",
   "execution_count": 4,
   "metadata": {},
   "outputs": [],
   "source": [
    "from torch.utils.data import random_split\n",
    "\n",
    "def initDataset():\n",
    "    dataset = MyDataset()\n",
    "    \n",
    "    # Train/Validation/Test split\n",
    "    train, test = random_split(dataset, [int(0.85*len(dataset))+1, int(0.15*len(dataset))])\n",
    "    valid, train = random_split(train, [int(0.176*len(train))+1, int((1-0.176)*len(train))]) # Rounding error\n",
    "    \n",
    "    # print(len(train), len(valid), len(test))\n",
    "    # print(len(train)+ len(valid)+ len(test), len(dataset))\n",
    "    \n",
    "    train_loader = th.utils.data.DataLoader(train,\n",
    "                                            batch_size=32,\n",
    "                                            shuffle=True,\n",
    "                                            num_workers=4)\n",
    "    test_loader = th.utils.data.DataLoader(test,\n",
    "                                            batch_size=32,\n",
    "                                            shuffle=True,\n",
    "                                            num_workers=4)\n",
    "    valid_loader = th.utils.data.DataLoader(valid,\n",
    "                                            batch_size=32,\n",
    "                                            shuffle=True,\n",
    "                                            num_workers=4)\n",
    "    \n",
    "    return train_loader , test_loader, valid_loader\n",
    "\n",
    "train_loader, test_loader, valid_loader = initDataset()"
   ]
  },
  {
   "cell_type": "markdown",
   "metadata": {},
   "source": [
    "### Show images"
   ]
  },
  {
   "cell_type": "code",
   "execution_count": 5,
   "metadata": {},
   "outputs": [],
   "source": [
    "valIterator = iter(valid_loader)\n",
    "trainIterator = iter(train_loader)\n",
    "testIterator = iter(test_loader)"
   ]
  },
  {
   "cell_type": "code",
   "execution_count": null,
   "metadata": {},
   "outputs": [],
   "source": [
    "def test(iter):\n",
    "    for image, labels in iter:\n",
    "        plt.imshow(image[0].permute(1, 2, 0))\n",
    "        plt.show()\n",
    "        print(labels[0])\n",
    "test(valIterator)"
   ]
  },
  {
   "cell_type": "markdown",
   "metadata": {},
   "source": [
    "### Initialize model"
   ]
  },
  {
   "cell_type": "code",
   "execution_count": null,
   "metadata": {},
   "outputs": [],
   "source": [
    "model = tv.models.resnet18(progress = True)"
   ]
  }
 ],
 "metadata": {
  "interpreter": {
   "hash": "ee178e4c284ef3b37c6951cf0fc2a764583ae515dcfe07a7f6c190bcc49c4382"
  },
  "kernelspec": {
   "display_name": "Python 3.9.7 ('venv': venv)",
   "language": "python",
   "name": "python3"
  },
  "language_info": {
   "codemirror_mode": {
    "name": "ipython",
    "version": 3
   },
   "file_extension": ".py",
   "mimetype": "text/x-python",
   "name": "python",
   "nbconvert_exporter": "python",
   "pygments_lexer": "ipython3",
   "version": "3.9.7"
  },
  "orig_nbformat": 4
 },
 "nbformat": 4,
 "nbformat_minor": 2
}
