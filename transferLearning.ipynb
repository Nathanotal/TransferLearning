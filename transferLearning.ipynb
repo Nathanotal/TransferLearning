{
 "cells": [
  {
   "cell_type": "markdown",
   "metadata": {},
   "source": []
  },
  {
   "cell_type": "markdown",
   "metadata": {},
   "source": [
    "### Transfer learning"
   ]
  },
  {
   "cell_type": "markdown",
   "metadata": {},
   "source": [
    "Install and import packages"
   ]
  },
  {
   "cell_type": "code",
<<<<<<< Updated upstream
   "execution_count": 10,
=======
   "execution_count": 30,
>>>>>>> Stashed changes
   "metadata": {},
   "outputs": [],
   "source": [
    "# %pip install numpy\n",
    "# %pip install matplotlib\n",
    "# %pip install seaborn\n",
    "# %pip install torch\n",
    "# %pip install torchvision\n",
    "# %pip install helper\n",
    "# %pip install tqdm"
   ]
  },
  {
   "cell_type": "code",
<<<<<<< Updated upstream
   "execution_count": 11,
=======
   "execution_count": 31,
>>>>>>> Stashed changes
   "metadata": {},
   "outputs": [],
   "source": [
    "import numpy as np\n",
    "import matplotlib.pyplot as plt\n",
    "import seaborn as sns\n",
    "import torch as th\n",
    "from torch.utils.data import DataLoader\n",
    "import torchvision as tv\n",
    "from torchvision import transforms\n",
    "import os\n",
    "from tqdm import tqdm\n",
    "from xml.dom import minidom\n"
   ]
  },
  {
   "cell_type": "markdown",
   "metadata": {},
   "source": [
    "### Load dataset\n",
    "Maybe normalize dataset"
   ]
  },
  {
   "cell_type": "code",
<<<<<<< Updated upstream
   "execution_count": 12,
=======
   "execution_count": 32,
>>>>>>> Stashed changes
   "metadata": {},
   "outputs": [],
   "source": [
    "from torch.utils.data import Dataset\n",
    "from PIL import Image\n",
    "import torchvision.transforms.functional as TF\n",
    "import torchvision.transforms as tttttt\n",
    "import random\n",
    "\n",
    "random.seed(5)\n",
    "np.random.seed(100)\n",
    "\n",
    "def initPathsBase():\n",
    "        files = os.listdir(\"./data/images/\")\n",
    "        jpgList = []\n",
    "        \n",
    "        for file in files:\n",
    "            if file.endswith(\".jpg\"):\n",
    "                jpgList.append(file)\n",
    "        \n",
    "        random.shuffle(jpgList)\n",
    "        \n",
    "        return jpgList\n",
    "\n",
    "def initClasses(binary):\n",
    "    files = initPathsBase()\n",
    "    classList = []\n",
    "    for fname in files:\n",
    "        theClass = getClass(binary, fname)\n",
    "        if theClass not in classList:\n",
    "            classList.append(theClass)\n",
    "    return classList\n",
    "    \n",
    "    \n",
    "def initClassesCatDog(binary):\n",
    "    files = initPathsBase()\n",
    "    classList = []\n",
    "    for fname in files:\n",
    "        fname = cleanFileName(fname)\n",
    "        theClass = getClass(binary, fname)\n",
    "        if theClass not in classList:\n",
    "            classList.append(theClass)\n",
    "    return [\"cat\", \"dog\"]\n",
    "\n",
    "def getClassCatDog(fileName):\n",
    "    if fileName[0].isupper():\n",
    "        return \"cat\"\n",
    "    else:\n",
    "        return \"dog\"\n",
    "    \n",
    "def cleanFileName(name):\n",
    "        if name[0:3] == \"AUG\":\n",
    "           return name[3:]\n",
    "        return name\n",
    "    \n",
    "    # Classifies data into Cat/Dog or into one of the 37 classes of breeds\n",
    "def getClass(binary, fileName):\n",
    "    fileName = cleanFileName(fileName)\n",
    "    # getCenterBoundingBox(fileName)\n",
    "    if binary:\n",
    "        return getClassCatDog(fileName)\n",
    "    else:\n",
    "        nameList = fileName.split(\"_\")\n",
    "        name = \"\"\n",
    "        for namePart in nameList:\n",
    "            if \".jpg\" not in namePart:\n",
    "                name += namePart\n",
    "        return name\n",
    "\n",
    "    \n",
    "def open_image(path): # https://jovian.ai/aakashns/transfer-learning-pytorch\n",
    "    with open(path, 'rb') as f:\n",
    "        img = Image.open(f)\n",
    "        return img.convert('RGB')\n",
    "    \n",
    "def getDataLists():\n",
    "    files = initPathsBase()\n",
    "    return files[:int(len(files)*0.7)], files[int(len(files)*0.7):]\n",
    "\n",
    "class MyDataset(Dataset):\n",
    "    def __init__(self, binary=False, limit=1, train=True, paths=None):\n",
    "        super().__init__()\n",
    "        self.size=224\n",
    "        self.files = self.initPaths(limit=limit, train=train, li=paths) # self.initPaths(limit, train)\n",
    "        self.binary = binary\n",
    "        self.train = train\n",
    "        self.classes = initClasses(binary) if not binary else initClassesCatDog(binary)\n",
    "        # TODO: fix transforms better\n",
    "        self.transform = self.getTransform()\n",
    "        self.augTransform = self.getAugTransform()\n",
    "\n",
    "    def __len__(self):\n",
    "        return len(self.files)\n",
    "\n",
    "    def __getitem__(self, i, stats=False):\n",
    "        path = \"./data/images/\" + self.files[i]\n",
    "        if stats:\n",
    "            img = open_image(path)\n",
    "        else:\n",
    "            if self.files[i][0:3] == \"AUG\":\n",
    "                img = self.augTransform(open_image(\"./data/images/\" + self.files[i][3:]))\n",
    "            else:\n",
    "                img = self.transform(open_image(path))\n",
<<<<<<< Updated upstream
    "        class_idx = self.classes.index(self.getClass(self.files[i]))\n",
=======
    "                \n",
    "        if class_idx is None:\n",
    "            class_idx = self.classes.index(self.getClass(self.files[i]))\n",
    "\n",
    "        return img.to('cuda'), class_idx\n",
    "    \n",
    "    \n",
    "    def calcClass(self, bild, path):\n",
    "        if bild[:3] == \"AUG\":\n",
    "            img = self.augTransform(open_image(\"./data/images/\" + bild[3:]))\n",
    "        else:\n",
    "            img = self.transform(open_image(path))\n",
    "            \n",
    "            \n",
    "        img = np.expand_dims(img, axis = 0)\n",
    "        output = model(th.from_numpy(img))\n",
    "        \n",
    "        klass = output[0].argmax()\n",
>>>>>>> Stashed changes
    "\n",
    "        return img.to(\"cuda\"), class_idx\n",
    "    \n",
    "    def getClass(self, fileName):\n",
    "        return getClass(self.binary, fileName)\n",
    "    \n",
    "    def getTransform(self):\n",
    "        return transforms.Compose([transforms.Resize(255),\n",
    "                                    transforms.CenterCrop(224), \n",
    "                                    transforms.ToTensor(),\n",
    "                                    transforms.Normalize([0.485, 0.456, 0.406], [0.229, 0.224, 0.225])\n",
    "                                    ]) # normalization ABC\n",
    "        \n",
    "    def getAugTransform(self):\n",
    "        return transforms.Compose([\n",
    "            transforms.RandomHorizontalFlip(p = 0.7), \n",
    "                                    transforms.RandomRotation(degrees=(-30,30)),\n",
    "                                    transforms.Resize(255),\n",
    "                                    transforms.CenterCrop(224), \n",
    "                                    transforms.ToTensor(),\n",
    "                                    transforms.Normalize([0.485, 0.456, 0.406], [0.229, 0.224, 0.225])\n",
    "                                    ]) # normalization ABC\n",
    "\n",
    "    \n",
    "    def getCenterBoundingBox(self, fileName):\n",
    "        try:\n",
    "            file = minidom.parse('./annotations/xmls/'+fileName.replace(\".jpg\", '.xml'))\n",
    "            xmin = file.getElementsByTagName('xmin')[0].firstChild.data\n",
    "            xmax = file.getElementsByTagName('xmax')[0].firstChild.data\n",
    "            ymin = file.getElementsByTagName('ymin')[0].firstChild.data\n",
    "            ymax = file.getElementsByTagName('ymax')[0].firstChild.data\n",
    "            return int(xmin), int(xmax), int(ymin), int(ymax)\n",
    "        except:\n",
    "            return 0, 0, 0, 0\n",
    "    \n",
    "    \n",
    "    def getStats(self):\n",
    "        avgImage = th.Tensor(np.zeros((self.size, self.size, 3)))\n",
    "        \n",
    "        for i in range(self.__len__()):\n",
    "            img,_ = self.__getitem__(i, stats=True)\n",
    "            t = transforms.Compose([transforms.Resize(255),\n",
    "                                    transforms.CenterCrop(224), \n",
    "                                    transforms.ToTensor(),\n",
    "                                    ]) \n",
    "            avgImage += t(img)\n",
    "            \n",
    "        \n",
    "        avgImage /= self.__len__()\n",
    "        \n",
    "        mean = []\n",
    "        std = []\n",
    "        for dimension in enumerate(avgImage):\n",
    "            print(dimension)\n",
    "            mean.append(th.mean(dimension))\n",
    "            std.append(th.std(dimension))\n",
    "        \n",
    "        print(mean, std)\n",
    "            \n",
    "        \n",
    "        # return [mean[1], mean[2], mean[3]], [std[1], std[2], std[3]]\n",
    "        \n",
    "    def getCropStats(self):\n",
    "        x = 0\n",
    "        y = 0\n",
    "        n = 0\n",
    "        x_li = []\n",
    "        y_li = []\n",
    "        \n",
    "        for file in self.files:\n",
    "            xmin, xmax, ymin, ymax = self.getCenterBoundingBox(file)\n",
    "            if (xmin != 0) and (xmax != 0) and (ymin != 0) and (ymax != 0):\n",
    "                n += 1\n",
    "                \n",
    "                x += (xmax + xmin)/2\n",
    "                y += (ymax + ymin)/2\n",
    "                \n",
    "                x_li.append(x)\n",
    "                y_li.append(y)\n",
    "                \n",
    "        print(\"Average x:\", x/n, \"Average y:\", y/n)\n",
    "        \n",
    "        x_np = np.asarray(x_li)\n",
    "        y_np = np.asarray(y_li)\n",
    "        \n",
    "        x_std = np.std(x_np)\n",
    "        y_std = np.std(y_np)\n",
    "        print(\"STD x:\", x_std, \"STD y:\", y_std)\n",
    "            \n",
    "    \n",
    "    def addAugmented(self, jpgList):\n",
    "        newJpgList = jpgList.copy()\n",
    "        for i, jpg in enumerate(jpgList): # Doubles the ammount of data \n",
<<<<<<< Updated upstream
    "                newJpgList.append(\"AUG\"+jpg)\n",
=======
    "            #if i % 2 == 0: #Divides amount of augmented datat by 2\n",
    "            newJpgList.append(\"AUG\"+jpg)\n",
    "            \n",
    "\n",
    "        return newJpgList\n",
    "    \n",
    "    def addPseudo(self, jpgList):\n",
    "        newJpgList = []\n",
    "        for jpg in jpgList: # Doubles the ammount of data \n",
    "            newJpgList.append(\"PSU\"+jpg)\n",
>>>>>>> Stashed changes
    "\n",
    "        return newJpgList\n",
    "    \n",
    "    def initPaths(self, limit, train, li):\n",
    "        jpgList = li\n",
    "        if train:\n",
    "            # jpgList = jpgList[:int(len(jpgList)*0.7)]\n",
    "            jpgList = self.addAugmented(li)\n",
    "            random.shuffle(jpgList)\n",
    "        else:\n",
    "            # jpgList = jpgList[int(len(jpgList)*0.7):]\n",
    "            pass\n",
    "        \n",
    "        return jpgList[0:int(len(jpgList)*limit)]\n",
    "    \n",
    "\n",
    "# test = MyDataset(False)\n",
    "# test.getCropStats()"
   ]
  },
  {
   "cell_type": "code",
<<<<<<< Updated upstream
   "execution_count": 13,
=======
   "execution_count": 33,
>>>>>>> Stashed changes
   "metadata": {},
   "outputs": [],
   "source": [
    "from torch.utils.data import random_split\n",
    "\n",
    "def initDataset(batch_size, binary): #batch size affects computation time\n",
    "    trainPaths, testValPaths = getDataLists()\n",
    "    train = MyDataset(binary, train=True, paths=trainPaths)\n",
    "    testValDataset = MyDataset(binary, train=False, paths=testValPaths)\n",
    "    testValDataset.classes = train.classes # WTF\n",
    "    # Train/Validation/Test split. Current: 70/15/15\n",
    "\n",
    "    valid, test = random_split(testValDataset, [int(0.5*len(testValDataset))+1, int(0.5*len(testValDataset))]) \n",
    "    \n",
    "    \n",
    "    train_loader = th.utils.data.DataLoader(train,\n",
    "                                            batch_size=batch_size, \n",
    "                                            shuffle=True)\n",
    "    \n",
    "    test_loader = th.utils.data.DataLoader(test,\n",
    "                                            batch_size=batch_size,\n",
    "                                            shuffle=True)\n",
    "    valid_loader = th.utils.data.DataLoader(valid,\n",
    "                                            batch_size=batch_size,\n",
    "                                            shuffle=True)\n",
    "    \n",
    "    return train_loader , test_loader, valid_loader, train\n",
    "\n",
    "train_loader, test_loader, valid_loader, train = initDataset(batch_size=32, binary=False)"
   ]
  },
  {
   "cell_type": "markdown",
   "metadata": {},
   "source": [
    "### Inspect dataset"
   ]
  },
  {
   "cell_type": "code",
<<<<<<< Updated upstream
   "execution_count": 14,
=======
   "execution_count": 34,
>>>>>>> Stashed changes
   "metadata": {},
   "outputs": [],
   "source": [
    "# n = 0\n",
    "# n2 = 0\n",
    "# for batch_idx, batch in enumerate(train_loader):\n",
    "#     n += 32\n",
    "#     print(n)\n",
    "    \n",
    "#     if n == 8000:\n",
    "#         images = batch[0]\n",
    "#         labels = batch[1]\n",
    "#         for i in range(len(images)):\n",
    "#             n2+=1\n",
    "#             plt.imshow(images[i].permute(1, 2, 0))\n",
    "#             plt.show()\n",
    "#             print(labels[i])\n",
    "#             if n2 == 1:\n",
    "#                 break\n"
   ]
  },
  {
   "cell_type": "markdown",
   "metadata": {},
   "source": [
    "### Initialize model"
   ]
  },
  {
   "cell_type": "code",
<<<<<<< Updated upstream
   "execution_count": 15,
=======
   "execution_count": 35,
>>>>>>> Stashed changes
   "metadata": {},
   "outputs": [],
   "source": [
    "model = tv.models.resnet18(progress = True, pretrained=True)\n",
    "# model.eval()"
   ]
  },
  {
   "cell_type": "code",
<<<<<<< Updated upstream
   "execution_count": 16,
=======
   "execution_count": 36,
>>>>>>> Stashed changes
   "metadata": {},
   "outputs": [],
   "source": [
    "\n",
    "#Set requires_grad to false for every layer\n",
    "moreLayers = True\n",
    "for param in model.parameters():\n",
    "    param.requires_grad = False\n",
    "\n",
    "modules = model.named_modules()\n",
    "'''\n",
    "\n",
    "\n",
    "for i in modules:\n",
    "    if isinstance(i[1], th.nn.BatchNorm2d):\n",
    "        if \"layer4\" in i[0] and \"bn\" in i[0]:\n",
    "            i[1].momentum = 0.5\n",
    "'''    \n",
    "# Replace the last layer of the pretrained model with our own:\n",
    "# This should theoretically only set the last layer to requires_grad = True, since it is the default setting\n",
    "model.fc = th.nn.Linear(model.fc.in_features, 37) # 37 if not binary\n",
    "\n",
    "# Set the second layer to requires_grad = True\n",
    "for param in model.layer4.parameters():\n",
    "    param.requires_grad = True\n",
    "\n",
    "\n",
    "# Replace more layers:\n",
    "# TODO: implement\n",
    "\n",
    "# Examine different learning rates / rate schedulers\n",
    "# TODO: implement\n",
    "\n",
    "# Apply data augmentation during training (flip, small rotations, crops, small size scaling)\n",
    "# TODO: implement\n",
    "\n",
    "# Effect of fine-tuning or not the batch-norm parameters and updating the estimate of the batch \n",
    "# mean and standard deviations on the final performance on the new dataset.\n",
    "# model.eval()"
   ]
  },
  {
   "cell_type": "code",
<<<<<<< Updated upstream
   "execution_count": 17,
   "metadata": {
    "scrolled": true
   },
=======
   "execution_count": 37,
   "metadata": {},
>>>>>>> Stashed changes
   "outputs": [
    {
     "data": {
      "text/plain": [
       "ResNet(\n",
       "  (conv1): Conv2d(3, 64, kernel_size=(7, 7), stride=(2, 2), padding=(3, 3), bias=False)\n",
       "  (bn1): BatchNorm2d(64, eps=1e-05, momentum=0.1, affine=True, track_running_stats=True)\n",
       "  (relu): ReLU(inplace=True)\n",
       "  (maxpool): MaxPool2d(kernel_size=3, stride=2, padding=1, dilation=1, ceil_mode=False)\n",
       "  (layer1): Sequential(\n",
       "    (0): BasicBlock(\n",
       "      (conv1): Conv2d(64, 64, kernel_size=(3, 3), stride=(1, 1), padding=(1, 1), bias=False)\n",
       "      (bn1): BatchNorm2d(64, eps=1e-05, momentum=0.1, affine=True, track_running_stats=True)\n",
       "      (relu): ReLU(inplace=True)\n",
       "      (conv2): Conv2d(64, 64, kernel_size=(3, 3), stride=(1, 1), padding=(1, 1), bias=False)\n",
       "      (bn2): BatchNorm2d(64, eps=1e-05, momentum=0.1, affine=True, track_running_stats=True)\n",
       "    )\n",
       "    (1): BasicBlock(\n",
       "      (conv1): Conv2d(64, 64, kernel_size=(3, 3), stride=(1, 1), padding=(1, 1), bias=False)\n",
       "      (bn1): BatchNorm2d(64, eps=1e-05, momentum=0.1, affine=True, track_running_stats=True)\n",
       "      (relu): ReLU(inplace=True)\n",
       "      (conv2): Conv2d(64, 64, kernel_size=(3, 3), stride=(1, 1), padding=(1, 1), bias=False)\n",
       "      (bn2): BatchNorm2d(64, eps=1e-05, momentum=0.1, affine=True, track_running_stats=True)\n",
       "    )\n",
       "  )\n",
       "  (layer2): Sequential(\n",
       "    (0): BasicBlock(\n",
       "      (conv1): Conv2d(64, 128, kernel_size=(3, 3), stride=(2, 2), padding=(1, 1), bias=False)\n",
       "      (bn1): BatchNorm2d(128, eps=1e-05, momentum=0.1, affine=True, track_running_stats=True)\n",
       "      (relu): ReLU(inplace=True)\n",
       "      (conv2): Conv2d(128, 128, kernel_size=(3, 3), stride=(1, 1), padding=(1, 1), bias=False)\n",
       "      (bn2): BatchNorm2d(128, eps=1e-05, momentum=0.1, affine=True, track_running_stats=True)\n",
       "      (downsample): Sequential(\n",
       "        (0): Conv2d(64, 128, kernel_size=(1, 1), stride=(2, 2), bias=False)\n",
       "        (1): BatchNorm2d(128, eps=1e-05, momentum=0.1, affine=True, track_running_stats=True)\n",
       "      )\n",
       "    )\n",
       "    (1): BasicBlock(\n",
       "      (conv1): Conv2d(128, 128, kernel_size=(3, 3), stride=(1, 1), padding=(1, 1), bias=False)\n",
       "      (bn1): BatchNorm2d(128, eps=1e-05, momentum=0.1, affine=True, track_running_stats=True)\n",
       "      (relu): ReLU(inplace=True)\n",
       "      (conv2): Conv2d(128, 128, kernel_size=(3, 3), stride=(1, 1), padding=(1, 1), bias=False)\n",
       "      (bn2): BatchNorm2d(128, eps=1e-05, momentum=0.1, affine=True, track_running_stats=True)\n",
       "    )\n",
       "  )\n",
       "  (layer3): Sequential(\n",
       "    (0): BasicBlock(\n",
       "      (conv1): Conv2d(128, 256, kernel_size=(3, 3), stride=(2, 2), padding=(1, 1), bias=False)\n",
       "      (bn1): BatchNorm2d(256, eps=1e-05, momentum=0.1, affine=True, track_running_stats=True)\n",
       "      (relu): ReLU(inplace=True)\n",
       "      (conv2): Conv2d(256, 256, kernel_size=(3, 3), stride=(1, 1), padding=(1, 1), bias=False)\n",
       "      (bn2): BatchNorm2d(256, eps=1e-05, momentum=0.1, affine=True, track_running_stats=True)\n",
       "      (downsample): Sequential(\n",
       "        (0): Conv2d(128, 256, kernel_size=(1, 1), stride=(2, 2), bias=False)\n",
       "        (1): BatchNorm2d(256, eps=1e-05, momentum=0.1, affine=True, track_running_stats=True)\n",
       "      )\n",
       "    )\n",
       "    (1): BasicBlock(\n",
       "      (conv1): Conv2d(256, 256, kernel_size=(3, 3), stride=(1, 1), padding=(1, 1), bias=False)\n",
       "      (bn1): BatchNorm2d(256, eps=1e-05, momentum=0.1, affine=True, track_running_stats=True)\n",
       "      (relu): ReLU(inplace=True)\n",
       "      (conv2): Conv2d(256, 256, kernel_size=(3, 3), stride=(1, 1), padding=(1, 1), bias=False)\n",
       "      (bn2): BatchNorm2d(256, eps=1e-05, momentum=0.1, affine=True, track_running_stats=True)\n",
       "    )\n",
       "  )\n",
       "  (layer4): Sequential(\n",
       "    (0): BasicBlock(\n",
       "      (conv1): Conv2d(256, 512, kernel_size=(3, 3), stride=(2, 2), padding=(1, 1), bias=False)\n",
<<<<<<< Updated upstream
       "      (bn1): BatchNorm2d(512, eps=1e-05, momentum=0.1, affine=True, track_running_stats=True)\n",
       "      (relu): ReLU(inplace=True)\n",
       "      (conv2): Conv2d(512, 512, kernel_size=(3, 3), stride=(1, 1), padding=(1, 1), bias=False)\n",
       "      (bn2): BatchNorm2d(512, eps=1e-05, momentum=0.1, affine=True, track_running_stats=True)\n",
=======
       "      (bn1): BatchNorm2d(512, eps=1e-05, momentum=0.2, affine=True, track_running_stats=True)\n",
       "      (relu): ReLU(inplace=True)\n",
       "      (conv2): Conv2d(512, 512, kernel_size=(3, 3), stride=(1, 1), padding=(1, 1), bias=False)\n",
       "      (bn2): BatchNorm2d(512, eps=1e-05, momentum=0.2, affine=True, track_running_stats=True)\n",
>>>>>>> Stashed changes
       "      (downsample): Sequential(\n",
       "        (0): Conv2d(256, 512, kernel_size=(1, 1), stride=(2, 2), bias=False)\n",
       "        (1): BatchNorm2d(512, eps=1e-05, momentum=0.1, affine=True, track_running_stats=True)\n",
       "      )\n",
       "    )\n",
       "    (1): BasicBlock(\n",
       "      (conv1): Conv2d(512, 512, kernel_size=(3, 3), stride=(1, 1), padding=(1, 1), bias=False)\n",
<<<<<<< Updated upstream
       "      (bn1): BatchNorm2d(512, eps=1e-05, momentum=0.1, affine=True, track_running_stats=True)\n",
       "      (relu): ReLU(inplace=True)\n",
       "      (conv2): Conv2d(512, 512, kernel_size=(3, 3), stride=(1, 1), padding=(1, 1), bias=False)\n",
       "      (bn2): BatchNorm2d(512, eps=1e-05, momentum=0.1, affine=True, track_running_stats=True)\n",
=======
       "      (bn1): BatchNorm2d(512, eps=1e-05, momentum=0.2, affine=True, track_running_stats=True)\n",
       "      (relu): ReLU(inplace=True)\n",
       "      (conv2): Conv2d(512, 512, kernel_size=(3, 3), stride=(1, 1), padding=(1, 1), bias=False)\n",
       "      (bn2): BatchNorm2d(512, eps=1e-05, momentum=0.2, affine=True, track_running_stats=True)\n",
>>>>>>> Stashed changes
       "    )\n",
       "  )\n",
       "  (avgpool): AdaptiveAvgPool2d(output_size=(1, 1))\n",
       "  (fc): Linear(in_features=512, out_features=37, bias=True)\n",
       ")"
      ]
     },
<<<<<<< Updated upstream
     "execution_count": 17,
=======
     "execution_count": 37,
>>>>>>> Stashed changes
     "metadata": {},
     "output_type": "execute_result"
    }
   ],
   "source": [
<<<<<<< Updated upstream
    "model.to(\"cuda\")"
=======
    "model.to('cuda')"
>>>>>>> Stashed changes
   ]
  },
  {
   "cell_type": "markdown",
   "metadata": {},
   "source": [
    "### Finetune the model"
   ]
  },
  {
   "cell_type": "code",
<<<<<<< Updated upstream
   "execution_count": 18,
   "metadata": {},
   "outputs": [
    {
     "name": "stderr",
     "output_type": "stream",
     "text": [
      "100%|████████████████████████████████████████████████████████████████████████| 243/243 [01:24<00:00,  2.87it/s]\n"
     ]
    },
    {
     "name": "stdout",
     "output_type": "stream",
     "text": [
      "Learning rate: 0.001 \n",
      "\n",
      "Accuracy of the network on the validation images: 81.51487826871055 %\n"
     ]
    },
    {
     "name": "stderr",
     "output_type": "stream",
     "text": [
      "100%|████████████████████████████████████████████████████████████████████████| 243/243 [01:25<00:00,  2.85it/s]\n"
     ]
    },
    {
     "name": "stdout",
     "output_type": "stream",
     "text": [
      "Learning rate: 0.001 \n",
      "\n",
      "Accuracy of the network on the validation images: 88.4580703336339 %\n"
     ]
    },
    {
     "name": "stderr",
     "output_type": "stream",
     "text": [
      "100%|████████████████████████████████████████████████████████████████████████| 243/243 [01:24<00:00,  2.89it/s]\n"
     ]
    },
    {
     "name": "stdout",
     "output_type": "stream",
     "text": [
      "Learning rate: 0.001 \n",
      "\n",
      "Accuracy of the network on the validation images: 90.2614968440036 %\n"
     ]
    },
    {
     "name": "stderr",
     "output_type": "stream",
     "text": [
      "100%|████████████████████████████████████████████████████████████████████████| 243/243 [01:24<00:00,  2.88it/s]\n"
     ]
    },
    {
     "name": "stdout",
     "output_type": "stream",
     "text": [
      "Learning rate: 0.001 \n",
      "\n",
      "Accuracy of the network on the validation images: 88.63841298467088 %\n"
     ]
    },
    {
     "name": "stderr",
     "output_type": "stream",
     "text": [
      "100%|████████████████████████████████████████████████████████████████████████| 243/243 [01:24<00:00,  2.89it/s]\n"
     ]
    },
    {
     "name": "stdout",
     "output_type": "stream",
     "text": [
      "Learning rate: 0.001 \n",
      "\n",
      "Accuracy of the network on the validation images: 90.17132551848512 %\n"
     ]
    },
    {
     "name": "stderr",
     "output_type": "stream",
     "text": [
      "100%|████████████████████████████████████████████████████████████████████████| 243/243 [01:23<00:00,  2.92it/s]\n"
     ]
    },
    {
     "name": "stdout",
     "output_type": "stream",
     "text": [
      "Learning rate: 0.001 \n",
      "\n",
      "Accuracy of the network on the validation images: 90.2614968440036 %\n"
     ]
    },
    {
     "name": "stderr",
     "output_type": "stream",
     "text": [
      " 33%|███████████████████████▋                                                 | 79/243 [00:27<00:56,  2.90it/s]\n"
     ]
    },
    {
     "ename": "KeyboardInterrupt",
     "evalue": "",
     "output_type": "error",
     "traceback": [
      "\u001b[0;31m---------------------------------------------------------------------------\u001b[0m",
      "\u001b[0;31mKeyboardInterrupt\u001b[0m                         Traceback (most recent call last)",
      "\u001b[0;32m/tmp/ipykernel_11987/1257898476.py\u001b[0m in \u001b[0;36m<module>\u001b[0;34m\u001b[0m\n\u001b[1;32m     43\u001b[0m     \u001b[0;32mreturn\u001b[0m \u001b[0mmodel\u001b[0m\u001b[0;34m\u001b[0m\u001b[0;34m\u001b[0m\u001b[0m\n\u001b[1;32m     44\u001b[0m \u001b[0;34m\u001b[0m\u001b[0m\n\u001b[0;32m---> 45\u001b[0;31m \u001b[0mnew\u001b[0m \u001b[0;34m=\u001b[0m \u001b[0mtrain_model\u001b[0m\u001b[0;34m(\u001b[0m\u001b[0mmodel\u001b[0m\u001b[0;34m,\u001b[0m \u001b[0mtrain_loader\u001b[0m\u001b[0;34m,\u001b[0m \u001b[0mvalid_loader\u001b[0m\u001b[0;34m,\u001b[0m \u001b[0mepochs\u001b[0m\u001b[0;34m=\u001b[0m\u001b[0;36m10\u001b[0m\u001b[0;34m,\u001b[0m \u001b[0mlr\u001b[0m\u001b[0;34m=\u001b[0m\u001b[0;36m10\u001b[0m\u001b[0;34m**\u001b[0m\u001b[0;34m-\u001b[0m\u001b[0;36m3\u001b[0m\u001b[0;34m,\u001b[0m \u001b[0mweight_decay\u001b[0m\u001b[0;34m=\u001b[0m\u001b[0;36m0.0\u001b[0m\u001b[0;34m,\u001b[0m \u001b[0msheduler_gamma\u001b[0m\u001b[0;34m=\u001b[0m\u001b[0;36m0.8\u001b[0m\u001b[0;34m)\u001b[0m\u001b[0;34m\u001b[0m\u001b[0;34m\u001b[0m\u001b[0m\n\u001b[0m",
      "\u001b[0;32m/tmp/ipykernel_11987/1257898476.py\u001b[0m in \u001b[0;36mtrain_model\u001b[0;34m(model, train_loader, valid_loader, epochs, lr, weight_decay, sheduler_gamma)\u001b[0m\n\u001b[1;32m     15\u001b[0m         \u001b[0;31m# Training\u001b[0m\u001b[0;34m\u001b[0m\u001b[0;34m\u001b[0m\u001b[0;34m\u001b[0m\u001b[0m\n\u001b[1;32m     16\u001b[0m         \u001b[0mmodel\u001b[0m\u001b[0;34m.\u001b[0m\u001b[0mtrain\u001b[0m\u001b[0;34m(\u001b[0m\u001b[0;34m)\u001b[0m \u001b[0;31m#trains model\u001b[0m\u001b[0;34m\u001b[0m\u001b[0;34m\u001b[0m\u001b[0m\n\u001b[0;32m---> 17\u001b[0;31m         \u001b[0;32mfor\u001b[0m \u001b[0mbatch_idx\u001b[0m\u001b[0;34m,\u001b[0m \u001b[0mbatch\u001b[0m \u001b[0;32min\u001b[0m \u001b[0menumerate\u001b[0m\u001b[0;34m(\u001b[0m\u001b[0mtqdm\u001b[0m\u001b[0;34m(\u001b[0m\u001b[0mtrain_loader\u001b[0m\u001b[0;34m)\u001b[0m\u001b[0;34m)\u001b[0m\u001b[0;34m:\u001b[0m\u001b[0;34m\u001b[0m\u001b[0;34m\u001b[0m\u001b[0m\n\u001b[0m\u001b[1;32m     18\u001b[0m             \u001b[0mimages\u001b[0m \u001b[0;34m=\u001b[0m \u001b[0mbatch\u001b[0m\u001b[0;34m[\u001b[0m\u001b[0;36m0\u001b[0m\u001b[0;34m]\u001b[0m\u001b[0;34m\u001b[0m\u001b[0;34m\u001b[0m\u001b[0m\n\u001b[1;32m     19\u001b[0m             \u001b[0mlabels\u001b[0m \u001b[0;34m=\u001b[0m \u001b[0mbatch\u001b[0m\u001b[0;34m[\u001b[0m\u001b[0;36m1\u001b[0m\u001b[0;34m]\u001b[0m\u001b[0;34m\u001b[0m\u001b[0;34m\u001b[0m\u001b[0m\n",
      "\u001b[0;32m/opt/conda/lib/python3.7/site-packages/tqdm/std.py\u001b[0m in \u001b[0;36m__iter__\u001b[0;34m(self)\u001b[0m\n\u001b[1;32m   1193\u001b[0m \u001b[0;34m\u001b[0m\u001b[0m\n\u001b[1;32m   1194\u001b[0m         \u001b[0;32mtry\u001b[0m\u001b[0;34m:\u001b[0m\u001b[0;34m\u001b[0m\u001b[0;34m\u001b[0m\u001b[0m\n\u001b[0;32m-> 1195\u001b[0;31m             \u001b[0;32mfor\u001b[0m \u001b[0mobj\u001b[0m \u001b[0;32min\u001b[0m \u001b[0miterable\u001b[0m\u001b[0;34m:\u001b[0m\u001b[0;34m\u001b[0m\u001b[0;34m\u001b[0m\u001b[0m\n\u001b[0m\u001b[1;32m   1196\u001b[0m                 \u001b[0;32myield\u001b[0m \u001b[0mobj\u001b[0m\u001b[0;34m\u001b[0m\u001b[0;34m\u001b[0m\u001b[0m\n\u001b[1;32m   1197\u001b[0m                 \u001b[0;31m# Update and possibly print the progressbar.\u001b[0m\u001b[0;34m\u001b[0m\u001b[0;34m\u001b[0m\u001b[0;34m\u001b[0m\u001b[0m\n",
      "\u001b[0;32m/opt/conda/lib/python3.7/site-packages/torch/utils/data/dataloader.py\u001b[0m in \u001b[0;36m__next__\u001b[0;34m(self)\u001b[0m\n\u001b[1;32m    528\u001b[0m             \u001b[0;32mif\u001b[0m \u001b[0mself\u001b[0m\u001b[0;34m.\u001b[0m\u001b[0m_sampler_iter\u001b[0m \u001b[0;32mis\u001b[0m \u001b[0;32mNone\u001b[0m\u001b[0;34m:\u001b[0m\u001b[0;34m\u001b[0m\u001b[0;34m\u001b[0m\u001b[0m\n\u001b[1;32m    529\u001b[0m                 \u001b[0mself\u001b[0m\u001b[0;34m.\u001b[0m\u001b[0m_reset\u001b[0m\u001b[0;34m(\u001b[0m\u001b[0;34m)\u001b[0m\u001b[0;34m\u001b[0m\u001b[0;34m\u001b[0m\u001b[0m\n\u001b[0;32m--> 530\u001b[0;31m             \u001b[0mdata\u001b[0m \u001b[0;34m=\u001b[0m \u001b[0mself\u001b[0m\u001b[0;34m.\u001b[0m\u001b[0m_next_data\u001b[0m\u001b[0;34m(\u001b[0m\u001b[0;34m)\u001b[0m\u001b[0;34m\u001b[0m\u001b[0;34m\u001b[0m\u001b[0m\n\u001b[0m\u001b[1;32m    531\u001b[0m             \u001b[0mself\u001b[0m\u001b[0;34m.\u001b[0m\u001b[0m_num_yielded\u001b[0m \u001b[0;34m+=\u001b[0m \u001b[0;36m1\u001b[0m\u001b[0;34m\u001b[0m\u001b[0;34m\u001b[0m\u001b[0m\n\u001b[1;32m    532\u001b[0m             \u001b[0;32mif\u001b[0m \u001b[0mself\u001b[0m\u001b[0;34m.\u001b[0m\u001b[0m_dataset_kind\u001b[0m \u001b[0;34m==\u001b[0m \u001b[0m_DatasetKind\u001b[0m\u001b[0;34m.\u001b[0m\u001b[0mIterable\u001b[0m \u001b[0;32mand\u001b[0m\u001b[0;31m \u001b[0m\u001b[0;31m\\\u001b[0m\u001b[0;34m\u001b[0m\u001b[0;34m\u001b[0m\u001b[0m\n",
      "\u001b[0;32m/opt/conda/lib/python3.7/site-packages/torch/utils/data/dataloader.py\u001b[0m in \u001b[0;36m_next_data\u001b[0;34m(self)\u001b[0m\n\u001b[1;32m    568\u001b[0m     \u001b[0;32mdef\u001b[0m \u001b[0m_next_data\u001b[0m\u001b[0;34m(\u001b[0m\u001b[0mself\u001b[0m\u001b[0;34m)\u001b[0m\u001b[0;34m:\u001b[0m\u001b[0;34m\u001b[0m\u001b[0;34m\u001b[0m\u001b[0m\n\u001b[1;32m    569\u001b[0m         \u001b[0mindex\u001b[0m \u001b[0;34m=\u001b[0m \u001b[0mself\u001b[0m\u001b[0;34m.\u001b[0m\u001b[0m_next_index\u001b[0m\u001b[0;34m(\u001b[0m\u001b[0;34m)\u001b[0m  \u001b[0;31m# may raise StopIteration\u001b[0m\u001b[0;34m\u001b[0m\u001b[0;34m\u001b[0m\u001b[0m\n\u001b[0;32m--> 570\u001b[0;31m         \u001b[0mdata\u001b[0m \u001b[0;34m=\u001b[0m \u001b[0mself\u001b[0m\u001b[0;34m.\u001b[0m\u001b[0m_dataset_fetcher\u001b[0m\u001b[0;34m.\u001b[0m\u001b[0mfetch\u001b[0m\u001b[0;34m(\u001b[0m\u001b[0mindex\u001b[0m\u001b[0;34m)\u001b[0m  \u001b[0;31m# may raise StopIteration\u001b[0m\u001b[0;34m\u001b[0m\u001b[0;34m\u001b[0m\u001b[0m\n\u001b[0m\u001b[1;32m    571\u001b[0m         \u001b[0;32mif\u001b[0m \u001b[0mself\u001b[0m\u001b[0;34m.\u001b[0m\u001b[0m_pin_memory\u001b[0m\u001b[0;34m:\u001b[0m\u001b[0;34m\u001b[0m\u001b[0;34m\u001b[0m\u001b[0m\n\u001b[1;32m    572\u001b[0m             \u001b[0mdata\u001b[0m \u001b[0;34m=\u001b[0m \u001b[0m_utils\u001b[0m\u001b[0;34m.\u001b[0m\u001b[0mpin_memory\u001b[0m\u001b[0;34m.\u001b[0m\u001b[0mpin_memory\u001b[0m\u001b[0;34m(\u001b[0m\u001b[0mdata\u001b[0m\u001b[0;34m)\u001b[0m\u001b[0;34m\u001b[0m\u001b[0;34m\u001b[0m\u001b[0m\n",
      "\u001b[0;32m/opt/conda/lib/python3.7/site-packages/torch/utils/data/_utils/fetch.py\u001b[0m in \u001b[0;36mfetch\u001b[0;34m(self, possibly_batched_index)\u001b[0m\n\u001b[1;32m     47\u001b[0m     \u001b[0;32mdef\u001b[0m \u001b[0mfetch\u001b[0m\u001b[0;34m(\u001b[0m\u001b[0mself\u001b[0m\u001b[0;34m,\u001b[0m \u001b[0mpossibly_batched_index\u001b[0m\u001b[0;34m)\u001b[0m\u001b[0;34m:\u001b[0m\u001b[0;34m\u001b[0m\u001b[0;34m\u001b[0m\u001b[0m\n\u001b[1;32m     48\u001b[0m         \u001b[0;32mif\u001b[0m \u001b[0mself\u001b[0m\u001b[0;34m.\u001b[0m\u001b[0mauto_collation\u001b[0m\u001b[0;34m:\u001b[0m\u001b[0;34m\u001b[0m\u001b[0;34m\u001b[0m\u001b[0m\n\u001b[0;32m---> 49\u001b[0;31m             \u001b[0mdata\u001b[0m \u001b[0;34m=\u001b[0m \u001b[0;34m[\u001b[0m\u001b[0mself\u001b[0m\u001b[0;34m.\u001b[0m\u001b[0mdataset\u001b[0m\u001b[0;34m[\u001b[0m\u001b[0midx\u001b[0m\u001b[0;34m]\u001b[0m \u001b[0;32mfor\u001b[0m \u001b[0midx\u001b[0m \u001b[0;32min\u001b[0m \u001b[0mpossibly_batched_index\u001b[0m\u001b[0;34m]\u001b[0m\u001b[0;34m\u001b[0m\u001b[0;34m\u001b[0m\u001b[0m\n\u001b[0m\u001b[1;32m     50\u001b[0m         \u001b[0;32melse\u001b[0m\u001b[0;34m:\u001b[0m\u001b[0;34m\u001b[0m\u001b[0;34m\u001b[0m\u001b[0m\n\u001b[1;32m     51\u001b[0m             \u001b[0mdata\u001b[0m \u001b[0;34m=\u001b[0m \u001b[0mself\u001b[0m\u001b[0;34m.\u001b[0m\u001b[0mdataset\u001b[0m\u001b[0;34m[\u001b[0m\u001b[0mpossibly_batched_index\u001b[0m\u001b[0;34m]\u001b[0m\u001b[0;34m\u001b[0m\u001b[0;34m\u001b[0m\u001b[0m\n",
      "\u001b[0;32m/opt/conda/lib/python3.7/site-packages/torch/utils/data/_utils/fetch.py\u001b[0m in \u001b[0;36m<listcomp>\u001b[0;34m(.0)\u001b[0m\n\u001b[1;32m     47\u001b[0m     \u001b[0;32mdef\u001b[0m \u001b[0mfetch\u001b[0m\u001b[0;34m(\u001b[0m\u001b[0mself\u001b[0m\u001b[0;34m,\u001b[0m \u001b[0mpossibly_batched_index\u001b[0m\u001b[0;34m)\u001b[0m\u001b[0;34m:\u001b[0m\u001b[0;34m\u001b[0m\u001b[0;34m\u001b[0m\u001b[0m\n\u001b[1;32m     48\u001b[0m         \u001b[0;32mif\u001b[0m \u001b[0mself\u001b[0m\u001b[0;34m.\u001b[0m\u001b[0mauto_collation\u001b[0m\u001b[0;34m:\u001b[0m\u001b[0;34m\u001b[0m\u001b[0;34m\u001b[0m\u001b[0m\n\u001b[0;32m---> 49\u001b[0;31m             \u001b[0mdata\u001b[0m \u001b[0;34m=\u001b[0m \u001b[0;34m[\u001b[0m\u001b[0mself\u001b[0m\u001b[0;34m.\u001b[0m\u001b[0mdataset\u001b[0m\u001b[0;34m[\u001b[0m\u001b[0midx\u001b[0m\u001b[0;34m]\u001b[0m \u001b[0;32mfor\u001b[0m \u001b[0midx\u001b[0m \u001b[0;32min\u001b[0m \u001b[0mpossibly_batched_index\u001b[0m\u001b[0;34m]\u001b[0m\u001b[0;34m\u001b[0m\u001b[0;34m\u001b[0m\u001b[0m\n\u001b[0m\u001b[1;32m     50\u001b[0m         \u001b[0;32melse\u001b[0m\u001b[0;34m:\u001b[0m\u001b[0;34m\u001b[0m\u001b[0;34m\u001b[0m\u001b[0m\n\u001b[1;32m     51\u001b[0m             \u001b[0mdata\u001b[0m \u001b[0;34m=\u001b[0m \u001b[0mself\u001b[0m\u001b[0;34m.\u001b[0m\u001b[0mdataset\u001b[0m\u001b[0;34m[\u001b[0m\u001b[0mpossibly_batched_index\u001b[0m\u001b[0;34m]\u001b[0m\u001b[0;34m\u001b[0m\u001b[0;34m\u001b[0m\u001b[0m\n",
      "\u001b[0;32m/tmp/ipykernel_11987/2921573995.py\u001b[0m in \u001b[0;36m__getitem__\u001b[0;34m(self, i, stats)\u001b[0m\n\u001b[1;32m     98\u001b[0m                 \u001b[0mimg\u001b[0m \u001b[0;34m=\u001b[0m \u001b[0mself\u001b[0m\u001b[0;34m.\u001b[0m\u001b[0maugTransform\u001b[0m\u001b[0;34m(\u001b[0m\u001b[0mopen_image\u001b[0m\u001b[0;34m(\u001b[0m\u001b[0;34m\"./data/images/\"\u001b[0m \u001b[0;34m+\u001b[0m \u001b[0mself\u001b[0m\u001b[0;34m.\u001b[0m\u001b[0mfiles\u001b[0m\u001b[0;34m[\u001b[0m\u001b[0mi\u001b[0m\u001b[0;34m]\u001b[0m\u001b[0;34m[\u001b[0m\u001b[0;36m3\u001b[0m\u001b[0;34m:\u001b[0m\u001b[0;34m]\u001b[0m\u001b[0;34m)\u001b[0m\u001b[0;34m)\u001b[0m\u001b[0;34m\u001b[0m\u001b[0;34m\u001b[0m\u001b[0m\n\u001b[1;32m     99\u001b[0m             \u001b[0;32melse\u001b[0m\u001b[0;34m:\u001b[0m\u001b[0;34m\u001b[0m\u001b[0;34m\u001b[0m\u001b[0m\n\u001b[0;32m--> 100\u001b[0;31m                 \u001b[0mimg\u001b[0m \u001b[0;34m=\u001b[0m \u001b[0mself\u001b[0m\u001b[0;34m.\u001b[0m\u001b[0mtransform\u001b[0m\u001b[0;34m(\u001b[0m\u001b[0mopen_image\u001b[0m\u001b[0;34m(\u001b[0m\u001b[0mpath\u001b[0m\u001b[0;34m)\u001b[0m\u001b[0;34m)\u001b[0m\u001b[0;34m\u001b[0m\u001b[0;34m\u001b[0m\u001b[0m\n\u001b[0m\u001b[1;32m    101\u001b[0m         \u001b[0mclass_idx\u001b[0m \u001b[0;34m=\u001b[0m \u001b[0mself\u001b[0m\u001b[0;34m.\u001b[0m\u001b[0mclasses\u001b[0m\u001b[0;34m.\u001b[0m\u001b[0mindex\u001b[0m\u001b[0;34m(\u001b[0m\u001b[0mself\u001b[0m\u001b[0;34m.\u001b[0m\u001b[0mgetClass\u001b[0m\u001b[0;34m(\u001b[0m\u001b[0mself\u001b[0m\u001b[0;34m.\u001b[0m\u001b[0mfiles\u001b[0m\u001b[0;34m[\u001b[0m\u001b[0mi\u001b[0m\u001b[0;34m]\u001b[0m\u001b[0;34m)\u001b[0m\u001b[0;34m)\u001b[0m\u001b[0;34m\u001b[0m\u001b[0;34m\u001b[0m\u001b[0m\n\u001b[1;32m    102\u001b[0m \u001b[0;34m\u001b[0m\u001b[0m\n",
      "\u001b[0;32m/tmp/ipykernel_11987/2921573995.py\u001b[0m in \u001b[0;36mopen_image\u001b[0;34m(path)\u001b[0m\n\u001b[1;32m     69\u001b[0m     \u001b[0;32mwith\u001b[0m \u001b[0mopen\u001b[0m\u001b[0;34m(\u001b[0m\u001b[0mpath\u001b[0m\u001b[0;34m,\u001b[0m \u001b[0;34m'rb'\u001b[0m\u001b[0;34m)\u001b[0m \u001b[0;32mas\u001b[0m \u001b[0mf\u001b[0m\u001b[0;34m:\u001b[0m\u001b[0;34m\u001b[0m\u001b[0;34m\u001b[0m\u001b[0m\n\u001b[1;32m     70\u001b[0m         \u001b[0mimg\u001b[0m \u001b[0;34m=\u001b[0m \u001b[0mImage\u001b[0m\u001b[0;34m.\u001b[0m\u001b[0mopen\u001b[0m\u001b[0;34m(\u001b[0m\u001b[0mf\u001b[0m\u001b[0;34m)\u001b[0m\u001b[0;34m\u001b[0m\u001b[0;34m\u001b[0m\u001b[0m\n\u001b[0;32m---> 71\u001b[0;31m         \u001b[0;32mreturn\u001b[0m \u001b[0mimg\u001b[0m\u001b[0;34m.\u001b[0m\u001b[0mconvert\u001b[0m\u001b[0;34m(\u001b[0m\u001b[0;34m'RGB'\u001b[0m\u001b[0;34m)\u001b[0m\u001b[0;34m\u001b[0m\u001b[0;34m\u001b[0m\u001b[0m\n\u001b[0m\u001b[1;32m     72\u001b[0m \u001b[0;34m\u001b[0m\u001b[0m\n\u001b[1;32m     73\u001b[0m \u001b[0;32mdef\u001b[0m \u001b[0mgetDataLists\u001b[0m\u001b[0;34m(\u001b[0m\u001b[0;34m)\u001b[0m\u001b[0;34m:\u001b[0m\u001b[0;34m\u001b[0m\u001b[0;34m\u001b[0m\u001b[0m\n",
      "\u001b[0;32m/opt/conda/lib/python3.7/site-packages/PIL/Image.py\u001b[0m in \u001b[0;36mconvert\u001b[0;34m(self, mode, matrix, dither, palette, colors)\u001b[0m\n\u001b[1;32m    887\u001b[0m         \"\"\"\n\u001b[1;32m    888\u001b[0m \u001b[0;34m\u001b[0m\u001b[0m\n\u001b[0;32m--> 889\u001b[0;31m         \u001b[0mself\u001b[0m\u001b[0;34m.\u001b[0m\u001b[0mload\u001b[0m\u001b[0;34m(\u001b[0m\u001b[0;34m)\u001b[0m\u001b[0;34m\u001b[0m\u001b[0;34m\u001b[0m\u001b[0m\n\u001b[0m\u001b[1;32m    890\u001b[0m \u001b[0;34m\u001b[0m\u001b[0m\n\u001b[1;32m    891\u001b[0m         \u001b[0mhas_transparency\u001b[0m \u001b[0;34m=\u001b[0m \u001b[0mself\u001b[0m\u001b[0;34m.\u001b[0m\u001b[0minfo\u001b[0m\u001b[0;34m.\u001b[0m\u001b[0mget\u001b[0m\u001b[0;34m(\u001b[0m\u001b[0;34m\"transparency\"\u001b[0m\u001b[0;34m)\u001b[0m \u001b[0;32mis\u001b[0m \u001b[0;32mnot\u001b[0m \u001b[0;32mNone\u001b[0m\u001b[0;34m\u001b[0m\u001b[0;34m\u001b[0m\u001b[0m\n",
      "\u001b[0;32m/opt/conda/lib/python3.7/site-packages/PIL/ImageFile.py\u001b[0m in \u001b[0;36mload\u001b[0;34m(self)\u001b[0m\n\u001b[1;32m    251\u001b[0m \u001b[0;34m\u001b[0m\u001b[0m\n\u001b[1;32m    252\u001b[0m                             \u001b[0mb\u001b[0m \u001b[0;34m=\u001b[0m \u001b[0mb\u001b[0m \u001b[0;34m+\u001b[0m \u001b[0ms\u001b[0m\u001b[0;34m\u001b[0m\u001b[0;34m\u001b[0m\u001b[0m\n\u001b[0;32m--> 253\u001b[0;31m                             \u001b[0mn\u001b[0m\u001b[0;34m,\u001b[0m \u001b[0merr_code\u001b[0m \u001b[0;34m=\u001b[0m \u001b[0mdecoder\u001b[0m\u001b[0;34m.\u001b[0m\u001b[0mdecode\u001b[0m\u001b[0;34m(\u001b[0m\u001b[0mb\u001b[0m\u001b[0;34m)\u001b[0m\u001b[0;34m\u001b[0m\u001b[0;34m\u001b[0m\u001b[0m\n\u001b[0m\u001b[1;32m    254\u001b[0m                             \u001b[0;32mif\u001b[0m \u001b[0mn\u001b[0m \u001b[0;34m<\u001b[0m \u001b[0;36m0\u001b[0m\u001b[0;34m:\u001b[0m\u001b[0;34m\u001b[0m\u001b[0;34m\u001b[0m\u001b[0m\n\u001b[1;32m    255\u001b[0m                                 \u001b[0;32mbreak\u001b[0m\u001b[0;34m\u001b[0m\u001b[0;34m\u001b[0m\u001b[0m\n",
      "\u001b[0;31mKeyboardInterrupt\u001b[0m: "
     ]
    }
   ],
=======
   "execution_count": 38,
   "metadata": {
    "scrolled": true
   },
   "outputs": [],
>>>>>>> Stashed changes
   "source": [
    "# Train the model on our dataset\n",
    "def train_model(model, train_loader, valid_loader, epochs=5, lr=10**-3, weight_decay=0.0, sheduler_gamma=0.9):\n",
    "    # Define the loss function\n",
<<<<<<< Updated upstream
    "    criterion = th.nn.CrossEntropyLoss().cuda()\n",
=======
    "    criterion = th.nn.CrossEntropyLoss().to('cuda')\n",
>>>>>>> Stashed changes
    "    # Define the optimizer\n",
    "    optimizer = th.optim.Adam(model.fc.parameters(), lr=lr, weight_decay=weight_decay) # filter(lambda p: p.requires_grad, model.parameters()),\n",
    "    \n",
    "    #Set different learning rates for different layers\n",
    "    optimizer.add_param_group({'params': model.layer4.parameters(), 'lr': lr/2})\n",
    "    \n",
    "    # Train the model\n",
    "        scheduler = th.optim.lr_scheduler.ExponentialLR(optimizer, gamma=sheduler_gamma)\n",
    "    \n",
    "    train_acc = []\n",
    "    valid_acc = []\n",
    "    n_epochs = 0\n",
    "    for epoch in range(epochs):\n",
    "        n_epochs += 1\n",
    "        # Training\n",
    "        model.train() #trains model\n",
    "        for batch_idx, batch in enumerate(tqdm(train_loader)):\n",
    "            images = batch[0]\n",
    "            labels = batch[1]\n",
<<<<<<< Updated upstream
    "            # Forward pass\n",
    "            outputs = model(images)\n",
    "            loss = criterion(outputs, labels.to(\"cuda\"))\n",
=======
    "            #print(type(batch[0]))\n",
    "            \n",
    "            # Forward pass\n",
    "            outputs = model(images)\n",
    "            loss = criterion(outputs, labels.to('cuda'))\n",
>>>>>>> Stashed changes
    "            # Backward and optimize\n",
    "            optimizer.zero_grad() # Reset the gradients, maybe we should not do this\n",
    "            loss.backward() # Compute the gradients\n",
    "            optimizer.step() # Update the weights\n",
    "        # Validation\n",
    "        scheduler.step()\n",
    "        model.eval()\n",
    "        with th.no_grad(): # Disables tracking of calculations required to calculate gradients\n",
    "            correct = 0\n",
    "            total = 0\n",
    "            for batch_idx, batch in enumerate(valid_loader):\n",
    "                images = batch[0]\n",
    "                labels = batch[1]\n",
    "                outputs = model(images)\n",
    "                _, predicted = th.max(outputs.data, 1)\n",
    "                total += labels.size(0)\n",
<<<<<<< Updated upstream
    "                correct += (predicted == labels.to(\"cuda\")).sum().item()\n",
    "            print('Learning rate: {} \\n'.format(lr))\n",
    "            print('Accuracy of the network on the validation images: {} %'.format(100 * correct / total))\n",
    "            \n",
    "    return model\n",
    "\n",
    "new = train_model(model, train_loader, valid_loader, epochs=10, lr=10**-3, weight_decay=0.0, sheduler_gamma=0.8)"
=======
    "                correct += (predicted == labels.to('cuda')).sum().item()\n",
    "            print('Learning rate: {} \\n'.format(lr))\n",
    "            print('Accuracy of the network on the validation images: {} %'.format(100 * correct / total))\n",
    "            train_acc.append(correct / total)\n",
    "            correct = 0\n",
    "            total = 0\n",
    "            for batch_idx, batch in enumerate(train_loader):\n",
    "                images = batch[0]\n",
    "                labels = batch[1]\n",
    "                #print(labels)\n",
    "                outputs = model(images)\n",
    "                #print(outputs)\n",
    "                _, predicted = th.max(outputs.data, 1)\n",
    "                total += labels.size(0)\n",
    "                correct += (predicted == labels.to('cuda')).sum().item()\n",
    "            valid_acc.append(correct / total)\n",
    "            print('Accuracy of the network on the train images: {} %'.format(100 * correct / total))\n",
    "    performance = {'train_acc': train_acc, 'valid_acc' : valid_acc, 'n_epochs': n_epochs}        \n",
    "    return model, performance\n",
    "\n",
    "# new = train_model(model, train_loader, valid_loader, epochs=20, lr=10**-3 , weight_decay=0.0)\n",
    "#new = train_model(model, train_loader, valid_loader, epochs=5, lr=10**-3, weight_decay=0.0)\n",
    "#new = train_model(model, train_loader, valid_loader, epochs=5, lr=10**-4, weight_decay=0.0)"
>>>>>>> Stashed changes
   ]
  },
  {
   "cell_type": "code",
<<<<<<< Updated upstream
=======
   "execution_count": 39,
   "metadata": {
    "scrolled": true
   },
   "outputs": [
    {
     "name": "stderr",
     "output_type": "stream",
     "text": [
      "100%|████████████████████████████████████████████████████████████████████████| 324/324 [01:53<00:00,  2.85it/s]\n"
     ]
    },
    {
     "name": "stdout",
     "output_type": "stream",
     "text": [
      "Learning rate: 0.001 \n",
      "\n",
      "Accuracy of the network on the validation images: 89.99098286744815 %\n",
      "Accuracy of the network on the train images: 97.0036729170694 %\n"
     ]
    },
    {
     "name": "stderr",
     "output_type": "stream",
     "text": [
      "100%|████████████████████████████████████████████████████████████████████████| 324/324 [01:52<00:00,  2.88it/s]\n"
     ]
    },
    {
     "name": "stdout",
     "output_type": "stream",
     "text": [
      "Learning rate: 0.001 \n",
      "\n",
      "Accuracy of the network on the validation images: 91.43372407574391 %\n",
      "Accuracy of the network on the train images: 99.04310844770926 %\n"
     ]
    },
    {
     "name": "stderr",
     "output_type": "stream",
     "text": [
      "100%|████████████████████████████████████████████████████████████████████████| 324/324 [01:54<00:00,  2.82it/s]\n"
     ]
    },
    {
     "name": "stdout",
     "output_type": "stream",
     "text": [
      "Learning rate: 0.001 \n",
      "\n",
      "Accuracy of the network on the validation images: 92.33543733092877 %\n",
      "Accuracy of the network on the train images: 99.57471486564856 %\n"
     ]
    },
    {
     "name": "stderr",
     "output_type": "stream",
     "text": [
      "100%|████████████████████████████████████████████████████████████████████████| 324/324 [01:57<00:00,  2.76it/s]\n"
     ]
    },
    {
     "name": "stdout",
     "output_type": "stream",
     "text": [
      "Learning rate: 0.001 \n",
      "\n",
      "Accuracy of the network on the validation images: 92.42560865644725 %\n",
      "Accuracy of the network on the train images: 99.76802629035376 %\n"
     ]
    },
    {
     "name": "stderr",
     "output_type": "stream",
     "text": [
      "100%|████████████████████████████████████████████████████████████████████████| 324/324 [01:57<00:00,  2.75it/s]\n"
     ]
    },
    {
     "name": "stdout",
     "output_type": "stream",
     "text": [
      "Learning rate: 0.001 \n",
      "\n",
      "Accuracy of the network on the validation images: 92.24526600541029 %\n",
      "Accuracy of the network on the train images: 99.77769186158902 %\n"
     ]
    },
    {
     "name": "stderr",
     "output_type": "stream",
     "text": [
      "100%|████████████████████████████████████████████████████████████████████████| 324/324 [01:56<00:00,  2.77it/s]\n"
     ]
    },
    {
     "name": "stdout",
     "output_type": "stream",
     "text": [
      "Learning rate: 0.001 \n",
      "\n",
      "Accuracy of the network on the validation images: 91.79440937781786 %\n",
      "Accuracy of the network on the train images: 99.7583607191185 %\n"
     ]
    },
    {
     "name": "stderr",
     "output_type": "stream",
     "text": [
      "100%|████████████████████████████████████████████████████████████████████████| 324/324 [01:55<00:00,  2.81it/s]\n"
     ]
    },
    {
     "name": "stdout",
     "output_type": "stream",
     "text": [
      "Learning rate: 0.001 \n",
      "\n",
      "Accuracy of the network on the validation images: 92.0649233543733 %\n",
      "Accuracy of the network on the train images: 99.84535086023584 %\n"
     ]
    },
    {
     "name": "stderr",
     "output_type": "stream",
     "text": [
      "100%|████████████████████████████████████████████████████████████████████████| 324/324 [01:55<00:00,  2.81it/s]\n"
     ]
    },
    {
     "name": "stdout",
     "output_type": "stream",
     "text": [
      "Learning rate: 0.001 \n",
      "\n",
      "Accuracy of the network on the validation images: 92.24526600541029 %\n",
      "Accuracy of the network on the train images: 99.82601971776532 %\n"
     ]
    },
    {
     "name": "stderr",
     "output_type": "stream",
     "text": [
      "100%|████████████████████████████████████████████████████████████████████████| 324/324 [01:53<00:00,  2.86it/s]\n"
     ]
    },
    {
     "name": "stdout",
     "output_type": "stream",
     "text": [
      "Learning rate: 0.001 \n",
      "\n",
      "Accuracy of the network on the validation images: 92.33543733092877 %\n",
      "Accuracy of the network on the train images: 99.72936400541272 %\n"
     ]
    },
    {
     "name": "stderr",
     "output_type": "stream",
     "text": [
      "100%|████████████████████████████████████████████████████████████████████████| 324/324 [01:53<00:00,  2.85it/s]\n"
     ]
    },
    {
     "name": "stdout",
     "output_type": "stream",
     "text": [
      "Learning rate: 0.001 \n",
      "\n",
      "Accuracy of the network on the validation images: 91.97475202885482 %\n",
      "Accuracy of the network on the train images: 99.79702300405954 %\n"
     ]
    },
    {
     "name": "stderr",
     "output_type": "stream",
     "text": [
      "100%|████████████████████████████████████████████████████████████████████████| 324/324 [01:54<00:00,  2.83it/s]\n"
     ]
    },
    {
     "name": "stdout",
     "output_type": "stream",
     "text": [
      "Learning rate: 0.001 \n",
      "\n",
      "Accuracy of the network on the validation images: 91.5238954012624 %\n",
      "Accuracy of the network on the train images: 99.77769186158902 %\n"
     ]
    },
    {
     "name": "stderr",
     "output_type": "stream",
     "text": [
      "100%|████████████████████████████████████████████████████████████████████████| 324/324 [01:52<00:00,  2.88it/s]\n"
     ]
    },
    {
     "name": "stdout",
     "output_type": "stream",
     "text": [
      "Learning rate: 0.001 \n",
      "\n",
      "Accuracy of the network on the validation images: 91.97475202885482 %\n",
      "Accuracy of the network on the train images: 99.82601971776532 %\n"
     ]
    },
    {
     "name": "stderr",
     "output_type": "stream",
     "text": [
      "100%|████████████████████████████████████████████████████████████████████████| 324/324 [01:56<00:00,  2.79it/s]\n"
     ]
    },
    {
     "name": "stdout",
     "output_type": "stream",
     "text": [
      "Learning rate: 0.001 \n",
      "\n",
      "Accuracy of the network on the validation images: 92.15509467989179 %\n",
      "Accuracy of the network on the train images: 99.76802629035376 %\n"
     ]
    },
    {
     "name": "stderr",
     "output_type": "stream",
     "text": [
      "100%|████████████████████████████████████████████████████████████████████████| 324/324 [01:56<00:00,  2.79it/s]\n"
     ]
    },
    {
     "name": "stdout",
     "output_type": "stream",
     "text": [
      "Learning rate: 0.001 \n",
      "\n",
      "Accuracy of the network on the validation images: 92.33543733092877 %\n",
      "Accuracy of the network on the train images: 99.76802629035376 %\n"
     ]
    },
    {
     "name": "stderr",
     "output_type": "stream",
     "text": [
      "100%|████████████████████████████████████████████████████████████████████████| 324/324 [01:52<00:00,  2.87it/s]\n"
     ]
    },
    {
     "name": "stdout",
     "output_type": "stream",
     "text": [
      "Learning rate: 0.001 \n",
      "\n",
      "Accuracy of the network on the validation images: 92.0649233543733 %\n",
      "Accuracy of the network on the train images: 99.7583607191185 %\n"
     ]
    },
    {
     "name": "stderr",
     "output_type": "stream",
     "text": [
      "100%|████████████████████████████████████████████████████████████████████████| 324/324 [01:52<00:00,  2.88it/s]\n"
     ]
    },
    {
     "name": "stdout",
     "output_type": "stream",
     "text": [
      "Learning rate: 0.001 \n",
      "\n",
      "Accuracy of the network on the validation images: 92.0649233543733 %\n",
      "Accuracy of the network on the train images: 99.76802629035376 %\n"
     ]
    },
    {
     "name": "stderr",
     "output_type": "stream",
     "text": [
      "100%|████████████████████████████████████████████████████████████████████████| 324/324 [01:52<00:00,  2.87it/s]\n"
     ]
    },
    {
     "name": "stdout",
     "output_type": "stream",
     "text": [
      "Learning rate: 0.001 \n",
      "\n",
      "Accuracy of the network on the validation images: 92.42560865644725 %\n",
      "Accuracy of the network on the train images: 99.78735743282428 %\n"
     ]
    },
    {
     "name": "stderr",
     "output_type": "stream",
     "text": [
      "100%|████████████████████████████████████████████████████████████████████████| 324/324 [01:52<00:00,  2.87it/s]\n"
     ]
    },
    {
     "name": "stdout",
     "output_type": "stream",
     "text": [
      "Learning rate: 0.001 \n",
      "\n",
      "Accuracy of the network on the validation images: 92.15509467989179 %\n",
      "Accuracy of the network on the train images: 99.8066885752948 %\n"
     ]
    },
    {
     "name": "stderr",
     "output_type": "stream",
     "text": [
      "100%|████████████████████████████████████████████████████████████████████████| 324/324 [01:53<00:00,  2.86it/s]\n"
     ]
    },
    {
     "name": "stdout",
     "output_type": "stream",
     "text": [
      "Learning rate: 0.001 \n",
      "\n",
      "Accuracy of the network on the validation images: 91.88458070333634 %\n",
      "Accuracy of the network on the train images: 99.8550164314711 %\n"
     ]
    },
    {
     "name": "stderr",
     "output_type": "stream",
     "text": [
      "100%|████████████████████████████████████████████████████████████████████████| 324/324 [01:55<00:00,  2.80it/s]\n"
     ]
    },
    {
     "name": "stdout",
     "output_type": "stream",
     "text": [
      "Learning rate: 0.001 \n",
      "\n",
      "Accuracy of the network on the validation images: 92.24526600541029 %\n",
      "Accuracy of the network on the train images: 99.82601971776532 %\n"
     ]
    }
   ],
   "source": [
    "new1, performance1 = train_model(model, train_loader, valid_loader, epochs=20, lr=10**-3, weight_decay=0.0, sheduler_gamma=0.5)"
   ]
  },
  {
   "cell_type": "code",
   "execution_count": 40,
   "metadata": {},
   "outputs": [
    {
     "data": {
      "image/png": "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\n",
      "text/plain": [
       "<Figure size 864x576 with 1 Axes>"
      ]
     },
     "metadata": {
      "needs_background": "light"
     },
     "output_type": "display_data"
    }
   ],
   "source": [
    "import matplotlib.pyplot as plt\n",
    "n_epochs = performance1['n_epochs']\n",
    "\n",
    "plt.figure(figsize=(12,8))\n",
    "plt.plot(range(1, n_epochs+1), performance1['valid_acc'], label = 'Training')\n",
    "plt.plot(range(1, n_epochs+1), performance1['train_acc'], label = 'Validation')\n",
    "plt.xlabel(\"Epochs\")\n",
    "plt.ylabel('Accuracy')\n",
    "plt.title('50 % of training set is augmented data')\n",
    "plt.xticks(range(1,n_epochs+1))\n",
    "plt.legend()\n",
    "plt.savefig('50 % of training set is augmented data.png')\n",
    "plt.show()\n",
    "\n"
   ]
  },
  {
   "cell_type": "code",
   "execution_count": 41,
   "metadata": {},
   "outputs": [
    {
     "name": "stdout",
     "output_type": "stream",
     "text": [
      "Accuracy of the network on the test images: 92.96028880866426 %\n"
     ]
    }
   ],
   "source": [
    "total = 0\n",
    "correct = 0\n",
    "for batch_idx, batch in enumerate(test_loader):\n",
    "    images = batch[0]\n",
    "    labels = batch[1]\n",
    "    outputs = model(images)\n",
    "    _, predicted = th.max(outputs.data, 1)\n",
    "    total += labels.size(0)\n",
    "    correct += (predicted == labels.to('cuda')).sum().item()\n",
    "\n",
    "print('Accuracy of the network on the test images: {} %'.format(100 * correct / total))"
   ]
  },
  {
   "cell_type": "code",
   "execution_count": 24,
   "metadata": {},
   "outputs": [
    {
     "name": "stderr",
     "output_type": "stream",
     "text": [
      "100%|████████████████████████████████████████████████████████████████████████| 243/243 [01:26<00:00,  2.81it/s]\n"
     ]
    },
    {
     "name": "stdout",
     "output_type": "stream",
     "text": [
      "Learning rate: 0.001 \n",
      "\n",
      "Accuracy of the network on the validation images: 91.07303877366998 %\n",
      "Accuracy of the network on the train images: 96.84278350515464 %\n"
     ]
    },
    {
     "name": "stderr",
     "output_type": "stream",
     "text": [
      "100%|████████████████████████████████████████████████████████████████████████| 243/243 [01:26<00:00,  2.81it/s]\n"
     ]
    },
    {
     "name": "stdout",
     "output_type": "stream",
     "text": [
      "Learning rate: 0.001 \n",
      "\n",
      "Accuracy of the network on the validation images: 92.60595130748422 %\n",
      "Accuracy of the network on the train images: 99.0721649484536 %\n"
     ]
    },
    {
     "name": "stderr",
     "output_type": "stream",
     "text": [
      "100%|████████████████████████████████████████████████████████████████████████| 243/243 [01:26<00:00,  2.81it/s]\n"
     ]
    },
    {
     "name": "stdout",
     "output_type": "stream",
     "text": [
      "Learning rate: 0.001 \n",
      "\n",
      "Accuracy of the network on the validation images: 92.24526600541029 %\n",
      "Accuracy of the network on the train images: 99.70360824742268 %\n"
     ]
    },
    {
     "name": "stderr",
     "output_type": "stream",
     "text": [
      "100%|████████████████████████████████████████████████████████████████████████| 243/243 [01:26<00:00,  2.82it/s]\n"
     ]
    },
    {
     "name": "stdout",
     "output_type": "stream",
     "text": [
      "Learning rate: 0.001 \n",
      "\n",
      "Accuracy of the network on the validation images: 92.51577998196574 %\n",
      "Accuracy of the network on the train images: 99.72938144329896 %\n"
     ]
    },
    {
     "name": "stderr",
     "output_type": "stream",
     "text": [
      "100%|████████████████████████████████████████████████████████████████████████| 243/243 [01:25<00:00,  2.83it/s]\n"
     ]
    },
    {
     "name": "stdout",
     "output_type": "stream",
     "text": [
      "Learning rate: 0.001 \n",
      "\n",
      "Accuracy of the network on the validation images: 92.6961226330027 %\n",
      "Accuracy of the network on the train images: 99.80670103092784 %\n"
     ]
    },
    {
     "name": "stderr",
     "output_type": "stream",
     "text": [
      "100%|████████████████████████████████████████████████████████████████████████| 243/243 [01:27<00:00,  2.78it/s]\n"
     ]
    },
    {
     "name": "stdout",
     "output_type": "stream",
     "text": [
      "Learning rate: 0.001 \n",
      "\n",
      "Accuracy of the network on the validation images: 92.6961226330027 %\n",
      "Accuracy of the network on the train images: 99.84536082474227 %\n"
     ]
    },
    {
     "name": "stderr",
     "output_type": "stream",
     "text": [
      "100%|████████████████████████████████████████████████████████████████████████| 243/243 [01:26<00:00,  2.81it/s]\n"
     ]
    },
    {
     "name": "stdout",
     "output_type": "stream",
     "text": [
      "Learning rate: 0.001 \n",
      "\n",
      "Accuracy of the network on the validation images: 92.15509467989179 %\n",
      "Accuracy of the network on the train images: 99.8582474226804 %\n"
     ]
    },
    {
     "name": "stderr",
     "output_type": "stream",
     "text": [
      "100%|████████████████████████████████████████████████████████████████████████| 243/243 [01:26<00:00,  2.79it/s]\n"
     ]
    },
    {
     "name": "stdout",
     "output_type": "stream",
     "text": [
      "Learning rate: 0.001 \n",
      "\n",
      "Accuracy of the network on the validation images: 92.33543733092877 %\n",
      "Accuracy of the network on the train images: 99.84536082474227 %\n"
     ]
    },
    {
     "name": "stderr",
     "output_type": "stream",
     "text": [
      "100%|████████████████████████████████████████████████████████████████████████| 243/243 [01:26<00:00,  2.80it/s]\n"
     ]
    },
    {
     "name": "stdout",
     "output_type": "stream",
     "text": [
      "Learning rate: 0.001 \n",
      "\n",
      "Accuracy of the network on the validation images: 92.51577998196574 %\n",
      "Accuracy of the network on the train images: 99.89690721649484 %\n"
     ]
    },
    {
     "name": "stderr",
     "output_type": "stream",
     "text": [
      "100%|████████████████████████████████████████████████████████████████████████| 243/243 [01:26<00:00,  2.81it/s]\n"
     ]
    },
    {
     "name": "stdout",
     "output_type": "stream",
     "text": [
      "Learning rate: 0.001 \n",
      "\n",
      "Accuracy of the network on the validation images: 92.60595130748422 %\n",
      "Accuracy of the network on the train images: 99.84536082474227 %\n"
     ]
    },
    {
     "name": "stderr",
     "output_type": "stream",
     "text": [
      "100%|████████████████████████████████████████████████████████████████████████| 243/243 [01:26<00:00,  2.80it/s]\n"
     ]
    },
    {
     "name": "stdout",
     "output_type": "stream",
     "text": [
      "Learning rate: 0.001 \n",
      "\n",
      "Accuracy of the network on the validation images: 92.6961226330027 %\n",
      "Accuracy of the network on the train images: 99.8840206185567 %\n"
     ]
    },
    {
     "name": "stderr",
     "output_type": "stream",
     "text": [
      "100%|████████████████████████████████████████████████████████████████████████| 243/243 [01:25<00:00,  2.85it/s]\n"
     ]
    },
    {
     "name": "stdout",
     "output_type": "stream",
     "text": [
      "Learning rate: 0.001 \n",
      "\n",
      "Accuracy of the network on the validation images: 92.6961226330027 %\n",
      "Accuracy of the network on the train images: 99.87113402061856 %\n"
     ]
    },
    {
     "name": "stderr",
     "output_type": "stream",
     "text": [
      "100%|████████████████████████████████████████████████████████████████████████| 243/243 [01:25<00:00,  2.86it/s]\n"
     ]
    },
    {
     "name": "stdout",
     "output_type": "stream",
     "text": [
      "Learning rate: 0.001 \n",
      "\n",
      "Accuracy of the network on the validation images: 92.6961226330027 %\n",
      "Accuracy of the network on the train images: 99.87113402061856 %\n"
     ]
    },
    {
     "name": "stderr",
     "output_type": "stream",
     "text": [
      "100%|████████████████████████████████████████████████████████████████████████| 243/243 [01:25<00:00,  2.86it/s]\n"
     ]
    },
    {
     "name": "stdout",
     "output_type": "stream",
     "text": [
      "Learning rate: 0.001 \n",
      "\n",
      "Accuracy of the network on the validation images: 92.24526600541029 %\n",
      "Accuracy of the network on the train images: 99.8582474226804 %\n"
     ]
    },
    {
     "name": "stderr",
     "output_type": "stream",
     "text": [
      "100%|████████████████████████████████████████████████████████████████████████| 243/243 [01:24<00:00,  2.88it/s]\n"
     ]
    },
    {
     "name": "stdout",
     "output_type": "stream",
     "text": [
      "Learning rate: 0.001 \n",
      "\n",
      "Accuracy of the network on the validation images: 92.78629395852118 %\n",
      "Accuracy of the network on the train images: 99.8582474226804 %\n"
     ]
    },
    {
     "name": "stderr",
     "output_type": "stream",
     "text": [
      "100%|████████████████████████████████████████████████████████████████████████| 243/243 [01:23<00:00,  2.91it/s]\n"
     ]
    },
    {
     "name": "stdout",
     "output_type": "stream",
     "text": [
      "Learning rate: 0.001 \n",
      "\n",
      "Accuracy of the network on the validation images: 92.33543733092877 %\n",
      "Accuracy of the network on the train images: 99.8582474226804 %\n"
     ]
    },
    {
     "name": "stderr",
     "output_type": "stream",
     "text": [
      "100%|████████████████████████████████████████████████████████████████████████| 243/243 [01:23<00:00,  2.89it/s]\n"
     ]
    },
    {
     "name": "stdout",
     "output_type": "stream",
     "text": [
      "Learning rate: 0.001 \n",
      "\n",
      "Accuracy of the network on the validation images: 92.60595130748422 %\n",
      "Accuracy of the network on the train images: 99.89690721649484 %\n"
     ]
    },
    {
     "name": "stderr",
     "output_type": "stream",
     "text": [
      "100%|████████████████████████████████████████████████████████████████████████| 243/243 [01:23<00:00,  2.90it/s]\n"
     ]
    },
    {
     "name": "stdout",
     "output_type": "stream",
     "text": [
      "Learning rate: 0.001 \n",
      "\n",
      "Accuracy of the network on the validation images: 92.6961226330027 %\n",
      "Accuracy of the network on the train images: 99.80670103092784 %\n"
     ]
    },
    {
     "name": "stderr",
     "output_type": "stream",
     "text": [
      "100%|████████████████████████████████████████████████████████████████████████| 243/243 [01:23<00:00,  2.89it/s]\n"
     ]
    },
    {
     "name": "stdout",
     "output_type": "stream",
     "text": [
      "Learning rate: 0.001 \n",
      "\n",
      "Accuracy of the network on the validation images: 92.78629395852118 %\n",
      "Accuracy of the network on the train images: 99.8840206185567 %\n"
     ]
    },
    {
     "name": "stderr",
     "output_type": "stream",
     "text": [
      "100%|████████████████████████████████████████████████████████████████████████| 243/243 [01:24<00:00,  2.88it/s]\n"
     ]
    },
    {
     "name": "stdout",
     "output_type": "stream",
     "text": [
      "Learning rate: 0.001 \n",
      "\n",
      "Accuracy of the network on the validation images: 92.78629395852118 %\n",
      "Accuracy of the network on the train images: 99.84536082474227 %\n"
     ]
    }
   ],
   "source": [
    "new, performance = train_model(model, train_loader, valid_loader, epochs=20, lr=10**-3, weight_decay=0.0, sheduler_gamma=0.5)"
   ]
  },
  {
   "cell_type": "code",
   "execution_count": 25,
   "metadata": {},
   "outputs": [
    {
     "data": {
      "image/png": "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\n",
      "text/plain": [
       "<Figure size 864x576 with 1 Axes>"
      ]
     },
     "metadata": {
      "needs_background": "light"
     },
     "output_type": "display_data"
    }
   ],
   "source": [
    "import matplotlib.pyplot as plt\n",
    "n_epochs = performance['n_epochs']\n",
    "\n",
    "plt.figure(figsize=(12,8))\n",
    "plt.plot(range(1, n_epochs+1), performance['valid_acc'], label = 'Training')\n",
    "plt.plot(range(1, n_epochs+1), performance['train_acc'], label = 'Validation')\n",
    "plt.xlabel(\"Epochs\")\n",
    "plt.ylabel('Accuracy')\n",
    "plt.title('33 % of training set is augmented data')\n",
    "plt.xticks(range(1,n_epochs+1))\n",
    "plt.legend()\n",
    "plt.savefig('33 % of training set is augmented data.png')\n",
    "plt.show()"
   ]
  },
  {
   "cell_type": "code",
   "execution_count": 29,
   "metadata": {},
   "outputs": [
    {
     "name": "stdout",
     "output_type": "stream",
     "text": [
      "Accuracy of the network on the test images: 91.7870036101083 %\n"
     ]
    }
   ],
   "source": [
    "total = 0\n",
    "correct = 0\n",
    "for batch_idx, batch in enumerate(test_loader):\n",
    "    images = batch[0]\n",
    "    labels = batch[1]\n",
    "    outputs = model(images)\n",
    "    _, predicted = th.max(outputs.data, 1)\n",
    "    total += labels.size(0)\n",
    "    correct += (predicted == labels.to('cuda')).sum().item()\n",
    "\n",
    "print('Accuracy of the network on the test images: {} %'.format(100 * correct / total))\n",
    "        "
   ]
  },
  {
   "cell_type": "code",
>>>>>>> Stashed changes
   "execution_count": null,
   "metadata": {},
   "outputs": [],
   "source": [
<<<<<<< Updated upstream
    "new2 = train_model(model, train_loader, valid_loader, epochs=10, lr=10**-3, weight_decay=0.0,sheduler_gamma=0.1)\n"
=======
    "# total = 0\n",
    "# correct = 0\n",
    "# n = 0\n",
    "# for batch_idx, batch in enumerate(test_loader):\n",
    "#     images = batch[0]\n",
    "#     labels = batch[1]\n",
    "#     #print(labels)\n",
    "#     outputs = model(images)\n",
    "#     #print(outputs)\n",
    "#     _, predicted = th.max(outputs.data, 1)\n",
    "#     total += labels.size(0)\n",
    "#     correct += (predicted == labels).sum().item()\n",
    "#     n+=1\n",
    "#     for i in range(len(images)):\n",
    "            \n",
    "#             plt.imshow(images[i].permute(1, 2, 0))\n",
    "#             plt.title(\"Predicted: \" + str(train.classes[predicted[i].item()]) + \"\\nActual: \" + str(train.classes[labels[i].item()]), fontsize=15, color='green' if predicted[i] == labels[i] else 'red', fontweight='bold')\n",
    "#             plt.show()\n",
    "#     if n == 3:\n",
    "#         break"
>>>>>>> Stashed changes
   ]
  },
  {
   "cell_type": "markdown",
   "metadata": {},
   "source": [
    "# Milestones:\n",
    "## Grade E:\n",
    "- [x] Achieve >99% on binary classification\n",
    "- [ ] Achieve >95% on multi-class classification\n",
    "- [x] Examine fine tuning more layers\n",
    "- [x] Examine different learning rates\n",
    "- [x] Examine data augmentation\n",
    "- [-] Fine tune batch-norm\n",
    "\n",
    "## Grade A:\n",
    "### Decrease the percentage of labelled data: \n",
    "- [ ] 50 %\n",
    "- [ ] 10 %\n",
    "- [ ] 1 %\n",
    "- [ ] Implement Pseudo-labelling\n"
   ]
<<<<<<< Updated upstream
=======
  },
  {
   "cell_type": "markdown",
   "metadata": {},
   "source": [
    "### Pseudo labelling"
   ]
  },
  {
   "cell_type": "code",
   "execution_count": 112,
   "metadata": {},
   "outputs": [
    {
     "name": "stdout",
     "output_type": "stream",
     "text": [
      "STARTAR HÄR\n",
      "\n"
     ]
    },
    {
     "name": "stderr",
     "output_type": "stream",
     "text": [
      "  6%|▌         | 2/33 [00:15<03:54,  7.57s/it]\n"
     ]
    },
    {
     "ename": "KeyboardInterrupt",
     "evalue": "",
     "output_type": "error",
     "traceback": [
      "\u001b[1;31m---------------------------------------------------------------------------\u001b[0m",
      "\u001b[1;31mKeyboardInterrupt\u001b[0m                         Traceback (most recent call last)",
      "\u001b[1;32m<ipython-input-112-04d332dd2c9d>\u001b[0m in \u001b[0;36m<module>\u001b[1;34m\u001b[0m\n\u001b[0;32m     62\u001b[0m \u001b[1;33m\u001b[0m\u001b[0m\n\u001b[0;32m     63\u001b[0m     \u001b[1;32mreturn\u001b[0m \u001b[0moldModel\u001b[0m\u001b[1;33m\u001b[0m\u001b[1;33m\u001b[0m\u001b[0m\n\u001b[1;32m---> 64\u001b[1;33m \u001b[0mnew\u001b[0m \u001b[1;33m=\u001b[0m \u001b[0mtrain_pseudo_model\u001b[0m\u001b[1;33m(\u001b[0m\u001b[0mmodel\u001b[0m\u001b[1;33m,\u001b[0m \u001b[1;32mNone\u001b[0m\u001b[1;33m,\u001b[0m \u001b[0mvalid_loader\u001b[0m\u001b[1;33m,\u001b[0m \u001b[0mepochs\u001b[0m\u001b[1;33m=\u001b[0m\u001b[1;36m5\u001b[0m\u001b[1;33m,\u001b[0m \u001b[0mlr\u001b[0m\u001b[1;33m=\u001b[0m\u001b[1;36m10\u001b[0m\u001b[1;33m**\u001b[0m\u001b[1;33m-\u001b[0m\u001b[1;36m3\u001b[0m\u001b[1;33m,\u001b[0m \u001b[0mweight_decay\u001b[0m\u001b[1;33m=\u001b[0m\u001b[1;36m0.0\u001b[0m\u001b[1;33m,\u001b[0m \u001b[0msheduler_gamma\u001b[0m\u001b[1;33m=\u001b[0m\u001b[1;36m0.5\u001b[0m\u001b[1;33m,\u001b[0m \u001b[0mpercentage\u001b[0m\u001b[1;33m=\u001b[0m\u001b[1;36m0.1\u001b[0m\u001b[1;33m,\u001b[0m \u001b[0mpseu\u001b[0m\u001b[1;33m=\u001b[0m\u001b[1;32mFalse\u001b[0m\u001b[1;33m)\u001b[0m\u001b[1;33m\u001b[0m\u001b[1;33m\u001b[0m\u001b[0m\n\u001b[0m\u001b[0;32m     65\u001b[0m \u001b[0mnew\u001b[0m \u001b[1;33m=\u001b[0m \u001b[0mtrain_pseudo_model\u001b[0m\u001b[1;33m(\u001b[0m\u001b[0mmodel\u001b[0m\u001b[1;33m,\u001b[0m \u001b[0mnew\u001b[0m\u001b[1;33m,\u001b[0m \u001b[0mvalid_loader\u001b[0m\u001b[1;33m,\u001b[0m \u001b[0mepochs\u001b[0m\u001b[1;33m=\u001b[0m\u001b[1;36m5\u001b[0m\u001b[1;33m,\u001b[0m \u001b[0mlr\u001b[0m\u001b[1;33m=\u001b[0m\u001b[1;36m10\u001b[0m\u001b[1;33m**\u001b[0m\u001b[1;33m-\u001b[0m\u001b[1;36m3\u001b[0m\u001b[1;33m,\u001b[0m \u001b[0mweight_decay\u001b[0m\u001b[1;33m=\u001b[0m\u001b[1;36m0.0\u001b[0m\u001b[1;33m,\u001b[0m \u001b[0msheduler_gamma\u001b[0m\u001b[1;33m=\u001b[0m\u001b[1;36m0.5\u001b[0m\u001b[1;33m,\u001b[0m \u001b[0mpercentage\u001b[0m\u001b[1;33m=\u001b[0m\u001b[1;36m0.1\u001b[0m\u001b[1;33m,\u001b[0m \u001b[0mpseu\u001b[0m\u001b[1;33m=\u001b[0m\u001b[1;32mTrue\u001b[0m\u001b[1;33m)\u001b[0m\u001b[1;33m\u001b[0m\u001b[1;33m\u001b[0m\u001b[0m\n",
      "\u001b[1;32m<ipython-input-112-04d332dd2c9d>\u001b[0m in \u001b[0;36mtrain_pseudo_model\u001b[1;34m(oldModel, newModel, valid_loader, epochs, lr, weight_decay, sheduler_gamma, percentage, pseu)\u001b[0m\n\u001b[0;32m     37\u001b[0m             \u001b[0mlabels\u001b[0m \u001b[1;33m=\u001b[0m \u001b[0mbatch\u001b[0m\u001b[1;33m[\u001b[0m\u001b[1;36m1\u001b[0m\u001b[1;33m]\u001b[0m\u001b[1;33m\u001b[0m\u001b[1;33m\u001b[0m\u001b[0m\n\u001b[0;32m     38\u001b[0m             \u001b[1;31m# Forward pass\u001b[0m\u001b[1;33m\u001b[0m\u001b[1;33m\u001b[0m\u001b[0m\n\u001b[1;32m---> 39\u001b[1;33m             \u001b[0moutputs\u001b[0m \u001b[1;33m=\u001b[0m \u001b[0moldModel\u001b[0m\u001b[1;33m(\u001b[0m\u001b[0mimages\u001b[0m\u001b[1;33m)\u001b[0m\u001b[1;33m\u001b[0m\u001b[1;33m\u001b[0m\u001b[0m\n\u001b[0m\u001b[0;32m     40\u001b[0m             \u001b[0mloss\u001b[0m \u001b[1;33m=\u001b[0m \u001b[0mcriterion\u001b[0m\u001b[1;33m(\u001b[0m\u001b[0moutputs\u001b[0m\u001b[1;33m,\u001b[0m \u001b[0mlabels\u001b[0m\u001b[1;33m)\u001b[0m\u001b[1;33m\u001b[0m\u001b[1;33m\u001b[0m\u001b[0m\n\u001b[0;32m     41\u001b[0m             \u001b[1;31m# Backward and optimize\u001b[0m\u001b[1;33m\u001b[0m\u001b[1;33m\u001b[0m\u001b[0m\n",
      "\u001b[1;32mc:\\Users\\natha\\AppData\\Local\\Programs\\Python\\Python39\\lib\\site-packages\\torch\\nn\\modules\\module.py\u001b[0m in \u001b[0;36m_call_impl\u001b[1;34m(self, *input, **kwargs)\u001b[0m\n\u001b[0;32m   1108\u001b[0m         if not (self._backward_hooks or self._forward_hooks or self._forward_pre_hooks or _global_backward_hooks\n\u001b[0;32m   1109\u001b[0m                 or _global_forward_hooks or _global_forward_pre_hooks):\n\u001b[1;32m-> 1110\u001b[1;33m             \u001b[1;32mreturn\u001b[0m \u001b[0mforward_call\u001b[0m\u001b[1;33m(\u001b[0m\u001b[1;33m*\u001b[0m\u001b[0minput\u001b[0m\u001b[1;33m,\u001b[0m \u001b[1;33m**\u001b[0m\u001b[0mkwargs\u001b[0m\u001b[1;33m)\u001b[0m\u001b[1;33m\u001b[0m\u001b[1;33m\u001b[0m\u001b[0m\n\u001b[0m\u001b[0;32m   1111\u001b[0m         \u001b[1;31m# Do not call functions when jit is used\u001b[0m\u001b[1;33m\u001b[0m\u001b[1;33m\u001b[0m\u001b[0m\n\u001b[0;32m   1112\u001b[0m         \u001b[0mfull_backward_hooks\u001b[0m\u001b[1;33m,\u001b[0m \u001b[0mnon_full_backward_hooks\u001b[0m \u001b[1;33m=\u001b[0m \u001b[1;33m[\u001b[0m\u001b[1;33m]\u001b[0m\u001b[1;33m,\u001b[0m \u001b[1;33m[\u001b[0m\u001b[1;33m]\u001b[0m\u001b[1;33m\u001b[0m\u001b[1;33m\u001b[0m\u001b[0m\n",
      "\u001b[1;32mc:\\Users\\natha\\AppData\\Local\\Programs\\Python\\Python39\\lib\\site-packages\\torchvision\\models\\resnet.py\u001b[0m in \u001b[0;36mforward\u001b[1;34m(self, x)\u001b[0m\n\u001b[0;32m    281\u001b[0m \u001b[1;33m\u001b[0m\u001b[0m\n\u001b[0;32m    282\u001b[0m     \u001b[1;32mdef\u001b[0m \u001b[0mforward\u001b[0m\u001b[1;33m(\u001b[0m\u001b[0mself\u001b[0m\u001b[1;33m,\u001b[0m \u001b[0mx\u001b[0m\u001b[1;33m:\u001b[0m \u001b[0mTensor\u001b[0m\u001b[1;33m)\u001b[0m \u001b[1;33m->\u001b[0m \u001b[0mTensor\u001b[0m\u001b[1;33m:\u001b[0m\u001b[1;33m\u001b[0m\u001b[1;33m\u001b[0m\u001b[0m\n\u001b[1;32m--> 283\u001b[1;33m         \u001b[1;32mreturn\u001b[0m \u001b[0mself\u001b[0m\u001b[1;33m.\u001b[0m\u001b[0m_forward_impl\u001b[0m\u001b[1;33m(\u001b[0m\u001b[0mx\u001b[0m\u001b[1;33m)\u001b[0m\u001b[1;33m\u001b[0m\u001b[1;33m\u001b[0m\u001b[0m\n\u001b[0m\u001b[0;32m    284\u001b[0m \u001b[1;33m\u001b[0m\u001b[0m\n\u001b[0;32m    285\u001b[0m \u001b[1;33m\u001b[0m\u001b[0m\n",
      "\u001b[1;32mc:\\Users\\natha\\AppData\\Local\\Programs\\Python\\Python39\\lib\\site-packages\\torchvision\\models\\resnet.py\u001b[0m in \u001b[0;36m_forward_impl\u001b[1;34m(self, x)\u001b[0m\n\u001b[0;32m    264\u001b[0m     \u001b[1;32mdef\u001b[0m \u001b[0m_forward_impl\u001b[0m\u001b[1;33m(\u001b[0m\u001b[0mself\u001b[0m\u001b[1;33m,\u001b[0m \u001b[0mx\u001b[0m\u001b[1;33m:\u001b[0m \u001b[0mTensor\u001b[0m\u001b[1;33m)\u001b[0m \u001b[1;33m->\u001b[0m \u001b[0mTensor\u001b[0m\u001b[1;33m:\u001b[0m\u001b[1;33m\u001b[0m\u001b[1;33m\u001b[0m\u001b[0m\n\u001b[0;32m    265\u001b[0m         \u001b[1;31m# See note [TorchScript super()]\u001b[0m\u001b[1;33m\u001b[0m\u001b[1;33m\u001b[0m\u001b[0m\n\u001b[1;32m--> 266\u001b[1;33m         \u001b[0mx\u001b[0m \u001b[1;33m=\u001b[0m \u001b[0mself\u001b[0m\u001b[1;33m.\u001b[0m\u001b[0mconv1\u001b[0m\u001b[1;33m(\u001b[0m\u001b[0mx\u001b[0m\u001b[1;33m)\u001b[0m\u001b[1;33m\u001b[0m\u001b[1;33m\u001b[0m\u001b[0m\n\u001b[0m\u001b[0;32m    267\u001b[0m         \u001b[0mx\u001b[0m \u001b[1;33m=\u001b[0m \u001b[0mself\u001b[0m\u001b[1;33m.\u001b[0m\u001b[0mbn1\u001b[0m\u001b[1;33m(\u001b[0m\u001b[0mx\u001b[0m\u001b[1;33m)\u001b[0m\u001b[1;33m\u001b[0m\u001b[1;33m\u001b[0m\u001b[0m\n\u001b[0;32m    268\u001b[0m         \u001b[0mx\u001b[0m \u001b[1;33m=\u001b[0m \u001b[0mself\u001b[0m\u001b[1;33m.\u001b[0m\u001b[0mrelu\u001b[0m\u001b[1;33m(\u001b[0m\u001b[0mx\u001b[0m\u001b[1;33m)\u001b[0m\u001b[1;33m\u001b[0m\u001b[1;33m\u001b[0m\u001b[0m\n",
      "\u001b[1;32mc:\\Users\\natha\\AppData\\Local\\Programs\\Python\\Python39\\lib\\site-packages\\torch\\nn\\modules\\module.py\u001b[0m in \u001b[0;36m_call_impl\u001b[1;34m(self, *input, **kwargs)\u001b[0m\n\u001b[0;32m   1108\u001b[0m         if not (self._backward_hooks or self._forward_hooks or self._forward_pre_hooks or _global_backward_hooks\n\u001b[0;32m   1109\u001b[0m                 or _global_forward_hooks or _global_forward_pre_hooks):\n\u001b[1;32m-> 1110\u001b[1;33m             \u001b[1;32mreturn\u001b[0m \u001b[0mforward_call\u001b[0m\u001b[1;33m(\u001b[0m\u001b[1;33m*\u001b[0m\u001b[0minput\u001b[0m\u001b[1;33m,\u001b[0m \u001b[1;33m**\u001b[0m\u001b[0mkwargs\u001b[0m\u001b[1;33m)\u001b[0m\u001b[1;33m\u001b[0m\u001b[1;33m\u001b[0m\u001b[0m\n\u001b[0m\u001b[0;32m   1111\u001b[0m         \u001b[1;31m# Do not call functions when jit is used\u001b[0m\u001b[1;33m\u001b[0m\u001b[1;33m\u001b[0m\u001b[0m\n\u001b[0;32m   1112\u001b[0m         \u001b[0mfull_backward_hooks\u001b[0m\u001b[1;33m,\u001b[0m \u001b[0mnon_full_backward_hooks\u001b[0m \u001b[1;33m=\u001b[0m \u001b[1;33m[\u001b[0m\u001b[1;33m]\u001b[0m\u001b[1;33m,\u001b[0m \u001b[1;33m[\u001b[0m\u001b[1;33m]\u001b[0m\u001b[1;33m\u001b[0m\u001b[1;33m\u001b[0m\u001b[0m\n",
      "\u001b[1;32mc:\\Users\\natha\\AppData\\Local\\Programs\\Python\\Python39\\lib\\site-packages\\torch\\nn\\modules\\conv.py\u001b[0m in \u001b[0;36mforward\u001b[1;34m(self, input)\u001b[0m\n\u001b[0;32m    445\u001b[0m \u001b[1;33m\u001b[0m\u001b[0m\n\u001b[0;32m    446\u001b[0m     \u001b[1;32mdef\u001b[0m \u001b[0mforward\u001b[0m\u001b[1;33m(\u001b[0m\u001b[0mself\u001b[0m\u001b[1;33m,\u001b[0m \u001b[0minput\u001b[0m\u001b[1;33m:\u001b[0m \u001b[0mTensor\u001b[0m\u001b[1;33m)\u001b[0m \u001b[1;33m->\u001b[0m \u001b[0mTensor\u001b[0m\u001b[1;33m:\u001b[0m\u001b[1;33m\u001b[0m\u001b[1;33m\u001b[0m\u001b[0m\n\u001b[1;32m--> 447\u001b[1;33m         \u001b[1;32mreturn\u001b[0m \u001b[0mself\u001b[0m\u001b[1;33m.\u001b[0m\u001b[0m_conv_forward\u001b[0m\u001b[1;33m(\u001b[0m\u001b[0minput\u001b[0m\u001b[1;33m,\u001b[0m \u001b[0mself\u001b[0m\u001b[1;33m.\u001b[0m\u001b[0mweight\u001b[0m\u001b[1;33m,\u001b[0m \u001b[0mself\u001b[0m\u001b[1;33m.\u001b[0m\u001b[0mbias\u001b[0m\u001b[1;33m)\u001b[0m\u001b[1;33m\u001b[0m\u001b[1;33m\u001b[0m\u001b[0m\n\u001b[0m\u001b[0;32m    448\u001b[0m \u001b[1;33m\u001b[0m\u001b[0m\n\u001b[0;32m    449\u001b[0m \u001b[1;32mclass\u001b[0m \u001b[0mConv3d\u001b[0m\u001b[1;33m(\u001b[0m\u001b[0m_ConvNd\u001b[0m\u001b[1;33m)\u001b[0m\u001b[1;33m:\u001b[0m\u001b[1;33m\u001b[0m\u001b[1;33m\u001b[0m\u001b[0m\n",
      "\u001b[1;32mc:\\Users\\natha\\AppData\\Local\\Programs\\Python\\Python39\\lib\\site-packages\\torch\\nn\\modules\\conv.py\u001b[0m in \u001b[0;36m_conv_forward\u001b[1;34m(self, input, weight, bias)\u001b[0m\n\u001b[0;32m    441\u001b[0m                             \u001b[0mweight\u001b[0m\u001b[1;33m,\u001b[0m \u001b[0mbias\u001b[0m\u001b[1;33m,\u001b[0m \u001b[0mself\u001b[0m\u001b[1;33m.\u001b[0m\u001b[0mstride\u001b[0m\u001b[1;33m,\u001b[0m\u001b[1;33m\u001b[0m\u001b[1;33m\u001b[0m\u001b[0m\n\u001b[0;32m    442\u001b[0m                             _pair(0), self.dilation, self.groups)\n\u001b[1;32m--> 443\u001b[1;33m         return F.conv2d(input, weight, bias, self.stride,\n\u001b[0m\u001b[0;32m    444\u001b[0m                         self.padding, self.dilation, self.groups)\n\u001b[0;32m    445\u001b[0m \u001b[1;33m\u001b[0m\u001b[0m\n",
      "\u001b[1;31mKeyboardInterrupt\u001b[0m: "
     ]
    }
   ],
   "source": [
    "## Helper functions\n",
    "def getPseudoTrainLoader(classes, model, batch_size=32, binary=False, percentage=0.5, pseu=False): #batch size affects computation time\n",
    "    trainPaths, _ = getDataLists()\n",
    "    \n",
    "    train = MyDataset(binary, train=True, paths=trainPaths, percentage=percentage, model=model, pseu=pseu)\n",
    "    \n",
    "    train.classes = classes # Make sure we are labelling correctly\n",
    "    train_loader = th.utils.data.DataLoader(train,\n",
    "                                            batch_size=batch_size, \n",
    "                                            shuffle=True)\n",
    "    \n",
    "    \n",
    "    return train_loader\n",
    "\n",
    "train_loader, test_loader, valid_loader, train = initDataset(batch_size=32, binary=False)\n",
    "\n",
    "\n",
    "# Train the model on our dataset\n",
    "def train_pseudo_model(oldModel, newModel, valid_loader, epochs=5, lr=10**-3, weight_decay=0.0, sheduler_gamma=0.9,percentage=0.5, pseu=False):\n",
    "    criterion = th.nn.CrossEntropyLoss()# Define the loss function\n",
    "    # Define the optimizer\n",
    "    optimizer = th.optim.Adam(oldModel.fc.parameters(), lr=lr, weight_decay=weight_decay) # filter(lambda p: p.requires_grad, model.parameters()),\n",
    "    optimizer.add_param_group({'params': oldModel.layer4.parameters(), 'lr': lr/10}) # Set different learning rates for different layers\n",
    "    scheduler = th.optim.lr_scheduler.ExponentialLR(optimizer, gamma=sheduler_gamma)\n",
    "    train_loader, test_loader, valid_loader, train = initDataset(batch_size=32, binary=False)\n",
    "    classes = train.classes\n",
    "    # Train the model\n",
    "    print(\"STARTAR HÄR\\n\")\n",
    "    \n",
    "    train_loader = getPseudoTrainLoader(classes, newModel, percentage=percentage, pseu=pseu)\n",
    "     \n",
    "    for epoch in range(epochs):\n",
    "        # Training \n",
    "        oldModel.train() #trains oldModel\n",
    "        for batch_idx, batch in enumerate(tqdm(train_loader)):\n",
    "            images = batch[0]\n",
    "            labels = batch[1]\n",
    "            # Forward pass\n",
    "            outputs = oldModel(images)\n",
    "            loss = criterion(outputs, labels)\n",
    "            # Backward and optimize\n",
    "            optimizer.zero_grad() # Reset the gradients, maybe we should not do this\n",
    "            loss.backward() # Compute the gradients\n",
    "            optimizer.step() # Update the weights\n",
    "        # Validation\n",
    "        scheduler.step()\n",
    "        oldModel.eval()\n",
    "        # with th.no_grad(): # Disables tracking of calculations required to calculate gradients\n",
    "        #     correct = 0\n",
    "        #     total = 0\n",
    "        #     for batch_idx, batch in enumerate(valid_loader):\n",
    "        #         images = batch[0]\n",
    "        #         labels = batch[1]\n",
    "        #         #print(labels)\n",
    "        #         outputs = oldModel(images)\n",
    "        #         #print(outputs)\n",
    "        #         _, predicted = th.max(outputs.data, 1)\n",
    "        #         total += labels.size(0)\n",
    "        #         correct += (predicted == labels).sum().item()\n",
    "        #     print('Learning rate: {} \\n'.format(lr))\n",
    "        #     print('Accuracy of the network on the validation images: {} %'.format(100 * correct / total))\n",
    "            \n",
    "    return oldModel\n",
    "new = train_pseudo_model(model, None, valid_loader, epochs=5, lr=10**-3, weight_decay=0.0, sheduler_gamma=0.5, percentage=0.1, pseu=False)\n",
    "new = train_pseudo_model(model, new, valid_loader, epochs=5, lr=10**-3, weight_decay=0.0, sheduler_gamma=0.5, percentage=0.1, pseu=True)"
   ]
  },
  {
   "cell_type": "code",
   "execution_count": null,
   "metadata": {},
   "outputs": [],
   "source": [
    "# Pseudo labelling\n",
    "\n",
    "# Reduce the amount of labels\n",
    "# 50%, 10%, 1%\n",
    "\n",
    "\n",
    "# Train a model on the reduced dataset\n",
    "\n",
    "# Use the model to generate pseudo labels\n",
    "\n",
    "# Train a model on the pseudo labels and the original dataset\n",
    "\n",
    "# Implement ensambling? Implement Pretrain?"
   ]
>>>>>>> Stashed changes
  }
 ],
 "metadata": {
  "interpreter": {
   "hash": "89627e806f793b932dfe80791ab48950fda4fb8e20d46d5d1c8fbf2fdce875b2"
  },
  "kernelspec": {
   "display_name": "Python 3",
   "language": "python",
   "name": "python3"
  },
  "language_info": {
   "codemirror_mode": {
    "name": "ipython",
    "version": 3
   },
   "file_extension": ".py",
   "mimetype": "text/x-python",
   "name": "python",
   "nbconvert_exporter": "python",
   "pygments_lexer": "ipython3",
   "version": "3.7.12"
  }
 },
 "nbformat": 4,
 "nbformat_minor": 2
}
